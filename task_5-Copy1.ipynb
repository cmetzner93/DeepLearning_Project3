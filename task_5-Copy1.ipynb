{
 "cells": [
  {
   "cell_type": "code",
   "execution_count": 107,
   "metadata": {},
   "outputs": [],
   "source": [
    "from __future__ import absolute_import\n",
    "from __future__ import division\n",
    "from __future__ import print_function\n",
    "\n",
    "import tensorflow as tf\n",
    "from tensorflow import keras\n",
    "from keras.layers import Dense, Input\n",
    "from keras.layers import Conv2D, Flatten, Lambda\n",
    "from keras.layers import Reshape, Conv2DTranspose\n",
    "from keras.models import Model\n",
    "from keras.datasets import mnist\n",
    "from keras.losses import mse, binary_crossentropy\n",
    "from keras.utils import plot_model\n",
    "from keras import backend as K\n",
    "from keras.datasets import fashion_mnist\n",
    "from keras.utils import to_categorical\n",
    "\n",
    "import numpy as np\n",
    "import matplotlib.pyplot as plt\n",
    "import argparse\n",
    "import os\n",
    "import time"
   ]
  },
  {
   "cell_type": "code",
   "execution_count": 108,
   "metadata": {},
   "outputs": [],
   "source": [
    "# reparameterization trick\n",
    "# instead of sampling from Q(z|X), sample eps = N(0,I)\n",
    "# then z = z_mean + sqrt(var)*eps\n",
    "def sampling(args):\n",
    "    \"\"\"Reparameterization trick by sampling for an isotropic unit Gaussian.\n",
    "\n",
    "    # Arguments\n",
    "        args (tensor): mean and log of variance of Q(z|X)\n",
    "\n",
    "    # Returns\n",
    "        z (tensor): sampled latent vector\n",
    "    \"\"\"\n",
    "\n",
    "    z_mean, z_log_var = args\n",
    "    batch = K.shape(z_mean)[0]\n",
    "    dim = K.int_shape(z_mean)[1]\n",
    "    # by default, random_normal has mean=0 and std=1.0\n",
    "    epsilon = K.random_normal(shape=(batch, dim))\n",
    "    return z_mean + K.exp(0.5 * z_log_var) * epsilon"
   ]
  },
  {
   "cell_type": "code",
   "execution_count": 109,
   "metadata": {},
   "outputs": [],
   "source": [
    "# Init a normalization funciton\n",
    "def normalization(matrix, max_val, min_val):\n",
    "    new_matrix = np.array([((image - min_val) / (max_val - min_val)) for image in matrix])\n",
    "    return new_matrix"
   ]
  },
  {
   "cell_type": "code",
   "execution_count": 236,
   "metadata": {},
   "outputs": [],
   "source": [
    "# from https://stackoverflow.com/questions/43178668/record-the-computation-time-for-each-epoch-in-keras-during-model-fit\n",
    "# Class which enables to store the execution time per epoch\n",
    "class TimeHistory(keras.callbacks.Callback):\n",
    "    def on_train_begin(self, logs={}):\n",
    "        self.times = []\n",
    "\n",
    "    def on_epoch_begin(self, batch, logs={}):\n",
    "        self.epoch_time_start = time.time()\n",
    "\n",
    "    def on_epoch_end(self, batch, logs={}):\n",
    "        self.times.append(time.time() - self.epoch_time_start)\n",
    "\n",
    "\n",
    "def acc_time(time_stamps):\n",
    "    # accumulate all single time values\n",
    "    accumulated_time = []\n",
    "    acc_time = 0\n",
    "    for time in time_stamps:\n",
    "        acc_time += time\n",
    "        accumulated_time.append(acc_time)\n",
    "    # print(accumulated_time)\n",
    "    return accumulated_time\n",
    "\n",
    "\n",
    "def run_model(model, x_train, x_test):\n",
    "    # compile the given model architecture\n",
    "    model.compile(optimizer='sgd')\n",
    "\n",
    "    # call class for taking time stamps for each epoch\n",
    "    time_callback_train = TimeHistory()\n",
    "    \n",
    "\n",
    "    # fit the model (train the network) and save metrics in variable history\n",
    "    history = model.fit(x_train, epochs=3, batch_size=10000, validation_data=(x_test, None), callbacks=[time_callback_train])\n",
    "\n",
    "    # store time stamps per epoch in variable\n",
    "    times_train = time_callback_train.times\n",
    "    print()\n",
    "    print(\"Reported times per epoch: \\n \", times_train)\n",
    "\n",
    "    accumulated_time = acc_time(times_train)\n",
    "\n",
    "    # Evaluate model using testing dataset\n",
    "    test_start_time = time.time()\n",
    "    test_loss = model.evaluate(x_test, batch_size=1000, verbose=2)\n",
    "    print()\n",
    "    print()\n",
    "    print('Test Loss: {}'.format(test_loss))\n",
    "    test_end_time = time.time() - test_start_time\n",
    "    print('Time for Testing Data: ', test_end_time)\n",
    "\n",
    "    # Plot training loss values vs epochs\n",
    "    plt.plot(history.history['loss'])\n",
    "    plt.title('Model Loss vs. Epochs')\n",
    "    plt.ylabel('Loss')\n",
    "    plt.xlabel('Epoch')\n",
    "    plt.legend(['Train', 'Test'], loc='upper left')\n",
    "    plt.show()\n",
    "\n",
    "    # Plot training time vs epochs\n",
    "    plt.plot(accumulated_time, history.history['loss'])\n",
    "    plt.title('Model Loss vs. Time')\n",
    "    plt.ylabel('Loss')\n",
    "    plt.xlabel('Time in seconds')\n",
    "    plt.legend(['Train'], loc='upper left')\n",
    "    plt.show()\n",
    "\n",
    "    return history"
   ]
  },
  {
   "cell_type": "code",
   "execution_count": 237,
   "metadata": {},
   "outputs": [],
   "source": [
    "# MNIST dataset\n",
    "(x_train, y_train), (x_test, y_test) = fashion_mnist.load_data()\n",
    "y_train_cat = to_categorical(y_train)\n",
    "y_test_cat = to_categorical(y_test)\n",
    "\n",
    "class_names = ['T-shirt/top', 'Trouser', 'Pullover', 'Dress', 'Coat',\n",
    "               'Sandal', 'Shirt', 'Sneaker', 'Bag', 'Ankle boot']\n",
    "\n",
    "# Get min, and max value from training data set using all 60,000 samples\n",
    "max_val = x_train.max()\n",
    "# print(\"Maximal value: \", max_val)\n",
    "min_val = x_train.min()\n",
    "\n",
    "# Normalize training (x_train) and testing (x_test) data based on maximal/minimal values of the training data\n",
    "x_train_scaled = normalization(x_train, max_val, min_val)\n",
    "x_test_scaled = normalization(x_test, max_val, min_val)\n",
    "\n",
    "# Reshape data \n",
    "image_size = x_train_scaled.shape[1]\n",
    "reshaped_x_train_scaled = np.reshape(x_train_scaled, [-1, image_size, image_size, 1])\n",
    "reshaped_x_test_scaled = np.reshape(x_test_scaled, [-1, image_size, image_size, 1])"
   ]
  },
  {
   "cell_type": "code",
   "execution_count": 238,
   "metadata": {
    "collapsed": true
   },
   "outputs": [
    {
     "name": "stdout",
     "output_type": "stream",
     "text": [
      "28\n",
      "(60000, 28, 28, 1) (10000, 28, 28, 1)\n"
     ]
    }
   ],
   "source": [
    "print(image_size)\n",
    "print(reshaped_x_train_scaled.shape, reshaped_x_test_scaled.shape)"
   ]
  },
  {
   "cell_type": "code",
   "execution_count": 239,
   "metadata": {},
   "outputs": [],
   "source": [
    "# network parameters\n",
    "input_shape = (image_size, image_size, 1)\n",
    "kernel_size = 3\n",
    "filters = 16\n",
    "latent_dim = 32"
   ]
  },
  {
   "cell_type": "code",
   "execution_count": 240,
   "metadata": {},
   "outputs": [
    {
     "name": "stdout",
     "output_type": "stream",
     "text": [
      "(None, 7, 7, 64)\n",
      "Model: \"encoder\"\n",
      "__________________________________________________________________________________________________\n",
      "Layer (type)                    Output Shape         Param #     Connected to                     \n",
      "==================================================================================================\n",
      "encoder_input (InputLayer)      (None, 28, 28, 1)    0                                            \n",
      "__________________________________________________________________________________________________\n",
      "conv2d_19 (Conv2D)              (None, 14, 14, 32)   320         encoder_input[0][0]              \n",
      "__________________________________________________________________________________________________\n",
      "conv2d_20 (Conv2D)              (None, 7, 7, 64)     18496       conv2d_19[0][0]                  \n",
      "__________________________________________________________________________________________________\n",
      "flatten_10 (Flatten)            (None, 3136)         0           conv2d_20[0][0]                  \n",
      "__________________________________________________________________________________________________\n",
      "dense_18 (Dense)                (None, 16)           50192       flatten_10[0][0]                 \n",
      "__________________________________________________________________________________________________\n",
      "z_mean (Dense)                  (None, 32)           544         dense_18[0][0]                   \n",
      "__________________________________________________________________________________________________\n",
      "z_log_var (Dense)               (None, 32)           544         dense_18[0][0]                   \n",
      "__________________________________________________________________________________________________\n",
      "z (Lambda)                      (None, 32)           0           z_mean[0][0]                     \n",
      "                                                                 z_log_var[0][0]                  \n",
      "==================================================================================================\n",
      "Total params: 70,096\n",
      "Trainable params: 70,096\n",
      "Non-trainable params: 0\n",
      "__________________________________________________________________________________________________\n"
     ]
    }
   ],
   "source": [
    "# VAE model = encoder + decoder\n",
    "# build encoder model\n",
    "inputs = Input(shape=input_shape, name='encoder_input')\n",
    "x = inputs\n",
    "for i in range(2):\n",
    "    filters *= 2\n",
    "    x = Conv2D(filters=filters,\n",
    "               kernel_size=kernel_size,\n",
    "               activation='relu',\n",
    "               strides=2,\n",
    "               padding='same')(x)\n",
    "    \n",
    "# shape info needed to build decoder model\n",
    "shape = K.int_shape(x)\n",
    "print(shape)\n",
    "\n",
    "# generate latent vector Q(z|X)\n",
    "x = Flatten()(x)\n",
    "x = Dense(16, activation='relu')(x)\n",
    "z_mean = Dense(latent_dim, name='z_mean')(x)\n",
    "z_log_var = Dense(latent_dim, name='z_log_var')(x)\n",
    "\n",
    "# use reparameterization trick to push the sampling out as input\n",
    "# note that \"output_shape\" isn't necessary with the TensorFlow backend\n",
    "z = Lambda(sampling, output_shape=(latent_dim,), name='z')([z_mean, z_log_var])\n",
    "\n",
    "# instantiate encoder model\n",
    "encoder = Model(inputs, [z_mean, z_log_var, z], name='encoder')\n",
    "encoder.summary()"
   ]
  },
  {
   "cell_type": "code",
   "execution_count": 241,
   "metadata": {},
   "outputs": [
    {
     "name": "stdout",
     "output_type": "stream",
     "text": [
      "Model: \"decoder\"\n",
      "_________________________________________________________________\n",
      "Layer (type)                 Output Shape              Param #   \n",
      "=================================================================\n",
      "z_sampling (InputLayer)      (None, 32)                0         \n",
      "_________________________________________________________________\n",
      "dense_19 (Dense)             (None, 3136)              103488    \n",
      "_________________________________________________________________\n",
      "reshape_9 (Reshape)          (None, 7, 7, 64)          0         \n",
      "_________________________________________________________________\n",
      "conv2d_transpose_17 (Conv2DT (None, 14, 14, 64)        36928     \n",
      "_________________________________________________________________\n",
      "conv2d_transpose_18 (Conv2DT (None, 28, 28, 32)        18464     \n",
      "_________________________________________________________________\n",
      "decoder_output (Conv2DTransp (None, 28, 28, 1)         289       \n",
      "=================================================================\n",
      "Total params: 159,169\n",
      "Trainable params: 159,169\n",
      "Non-trainable params: 0\n",
      "_________________________________________________________________\n"
     ]
    }
   ],
   "source": [
    "# build decoder model\n",
    "latent_inputs = Input(shape=(latent_dim,), name='z_sampling')\n",
    "x = Dense(shape[1] * shape[2] * shape[3], activation='relu')(latent_inputs)\n",
    "x = Reshape((shape[1], shape[2], shape[3]))(x)\n",
    "\n",
    "for i in range(2):\n",
    "    x = Conv2DTranspose(filters=filters,\n",
    "                        kernel_size=kernel_size,\n",
    "                        activation='relu',\n",
    "                        strides=2,\n",
    "                        padding='same')(x)\n",
    "    filters //= 2\n",
    "\n",
    "outputs = Conv2DTranspose(filters=1,\n",
    "                          kernel_size=kernel_size,\n",
    "                          activation='sigmoid',\n",
    "                          padding='same',\n",
    "                          name='decoder_output')(x)\n",
    "\n",
    "# instantiate decoder model\n",
    "decoder = Model(latent_inputs, outputs, name='decoder')\n",
    "decoder.summary()"
   ]
  },
  {
   "cell_type": "code",
   "execution_count": 242,
   "metadata": {},
   "outputs": [
    {
     "name": "stdout",
     "output_type": "stream",
     "text": [
      "Model: \"vae\"\n",
      "_________________________________________________________________\n",
      "Layer (type)                 Output Shape              Param #   \n",
      "=================================================================\n",
      "encoder_input (InputLayer)   (None, 28, 28, 1)         0         \n",
      "_________________________________________________________________\n",
      "encoder (Model)              [(None, 32), (None, 32),  70096     \n",
      "_________________________________________________________________\n",
      "decoder (Model)              (None, 28, 28, 1)         159169    \n",
      "=================================================================\n",
      "Total params: 229,265\n",
      "Trainable params: 229,265\n",
      "Non-trainable params: 0\n",
      "_________________________________________________________________\n"
     ]
    }
   ],
   "source": [
    "# instantiate VAE model\n",
    "outputs = decoder(encoder(inputs)[2])\n",
    "vae = Model(inputs, outputs, name='vae')\n",
    "vae.summary()"
   ]
  },
  {
   "cell_type": "code",
   "execution_count": 243,
   "metadata": {},
   "outputs": [],
   "source": [
    "# set loss \n",
    "reconstruction_loss = mse(K.flatten(inputs), K.flatten(outputs))\n",
    "reconstruction_loss *= image_size * image_size\n",
    "kl_loss = 1 + z_log_var - K.square(z_mean) - K.exp(z_log_var)\n",
    "kl_loss = K.sum(kl_loss, axis=-1)\n",
    "kl_loss *= -0.5\n",
    "vae_loss = K.mean(reconstruction_loss + kl_loss)\n",
    "vae.add_loss(vae_loss)"
   ]
  },
  {
   "cell_type": "code",
   "execution_count": 244,
   "metadata": {},
   "outputs": [
    {
     "name": "stderr",
     "output_type": "stream",
     "text": [
      "/Users/annanau/anaconda3/envs/tf2/lib/python3.7/site-packages/keras/engine/training_utils.py:819: UserWarning: Output decoder missing from loss dictionary. We assume this was done on purpose. The fit and evaluate APIs will not be expecting any data to be passed to decoder.\n",
      "  'be expecting any data to be passed to {0}.'.format(name))\n"
     ]
    },
    {
     "name": "stdout",
     "output_type": "stream",
     "text": [
      "Train on 60000 samples, validate on 10000 samples\n",
      "Epoch 1/3\n",
      "60000/60000 [==============================] - 28s 462us/step - loss: 104.9316 - val_loss: 97.4495\n",
      "Epoch 2/3\n",
      "60000/60000 [==============================] - 25s 422us/step - loss: 97.5939 - val_loss: 97.0043\n",
      "Epoch 3/3\n",
      "60000/60000 [==============================] - 25s 413us/step - loss: 97.0716 - val_loss: 96.3022\n",
      "\n",
      "Reported times per epoch: \n",
      "  [27.734710931777954, 25.318197011947632, 24.785696983337402]\n",
      "\n",
      "\n",
      "Test Loss: 96.30221786499024\n",
      "Time for Testing Data:  2.176147937774658\n"
     ]
    },
    {
     "data": {
      "image/png": "[encoded data removed]",
      "text/plain": [
       "<Figure size 432x288 with 1 Axes>"
      ]
     },
     "metadata": {
      "needs_background": "light"
     },
     "output_type": "display_data"
    },
    {
     "data": {
      "image/png": "[encoded data removed]",
      "text/plain": [
       "<Figure size 432x288 with 1 Axes>"
      ]
     },
     "metadata": {
      "needs_background": "light"
     },
     "output_type": "display_data"
    }
   ],
   "source": [
    "history = run_model(vae, reshaped_x_train_scaled, reshaped_x_test_scaled)"
   ]
  },
  {
   "cell_type": "code",
   "execution_count": 249,
   "metadata": {},
   "outputs": [
    {
     "data": {
      "text/plain": [
       "(1, 28, 28, 1)"
      ]
     },
     "execution_count": 249,
     "metadata": {},
     "output_type": "execute_result"
    }
   ],
   "source": [
    "input_sample = reshaped_x_train_scaled[:1]\n",
    "input_sample.shape"
   ]
  },
  {
   "cell_type": "code",
   "execution_count": 250,
   "metadata": {},
   "outputs": [],
   "source": [
    "# =============================================\n",
    "# Take a sample for visualization purposes\n",
    "# =============================================\n",
    "input_sample = reshaped_x_train_scaled[:1]\n",
    "reconstruction = vae.predict([input_sample])"
   ]
  },
  {
   "cell_type": "code",
   "execution_count": 252,
   "metadata": {},
   "outputs": [
    {
     "data": {
      "text/plain": [
       "(1, 28, 28, 1)"
      ]
     },
     "execution_count": 252,
     "metadata": {},
     "output_type": "execute_result"
    }
   ],
   "source": [
    "reconstruction.shape"
   ]
  },
  {
   "cell_type": "code",
   "execution_count": 254,
   "metadata": {},
   "outputs": [
    {
     "data": {
      "image/png": "[encoded data removed]",
      "text/plain": [
       "<Figure size 432x252 with 2 Axes>"
      ]
     },
     "metadata": {
      "needs_background": "light"
     },
     "output_type": "display_data"
    }
   ],
   "source": [
    "# =============================================\n",
    "# Visualize input-->reconstruction\n",
    "# =============================================\n",
    "fig, axes = plt.subplots(1, 2)\n",
    "fig.set_size_inches(6, 3.5)\n",
    "input_sample_reshaped = input_sample.reshape((28, 28))\n",
    "reconsstruction_reshaped = reconstruction.reshape((28, 28))\n",
    "axes[0].imshow(input_sample_reshaped) \n",
    "axes[0].set_title('Original image')\n",
    "axes[1].imshow(reconsstruction_reshaped)\n",
    "axes[1].set_title('Reconstruction')\n",
    "plt.show()"
   ]
  },
  {
   "cell_type": "code",
   "execution_count": 212,
   "metadata": {},
   "outputs": [],
   "source": [
    "output_encoder = encoder.predict(reshaped_x_train_scaled)"
   ]
  },
  {
   "cell_type": "code",
   "execution_count": 233,
   "metadata": {
    "collapsed": true
   },
   "outputs": [
    {
     "name": "stdout",
     "output_type": "stream",
     "text": [
      "[[0.11041452 0.05074536 0.10655271 0.11501562 0.13528769 0.12383664\n",
      "  0.1210399  0.12478549 0.16284777 0.14703113 0.13755566 0.12831376\n",
      "  0.1433343  0.13790818 0.15606295 0.14561357 0.15160553 0.14282447\n",
      "  0.15320754 0.14757983 0.13401072 0.12381814 0.13491234 0.12553984\n",
      "  0.1294484  0.12711303 0.11802677 0.07060478]\n",
      " [0.0997303  0.0548325  0.1614887  0.21338235 0.22335029 0.23621167\n",
      "  0.18892302 0.2313087  0.27098647 0.2773977  0.22089982 0.24843681\n",
      "  0.23153739 0.24743703 0.24352075 0.27505273 0.25440222 0.27469432\n",
      "  0.2506035  0.29549867 0.22258757 0.24270295 0.21944132 0.24574737\n",
      "  0.21325754 0.25406092 0.1844688  0.09167603]\n",
      " [0.0545272  0.03470404 0.23699729 0.28521013 0.33458537 0.34011617\n",
      "  0.30696514 0.35317335 0.40215772 0.39362845 0.36396775 0.37348875\n",
      "  0.35492167 0.37000728 0.38834918 0.3946647  0.3831449  0.39778334\n",
      "  0.37713173 0.39432806 0.34013999 0.34391567 0.33870366 0.33883083\n",
      "  0.33390343 0.35187408 0.28216442 0.20405582]\n",
      " [0.07106123 0.04719481 0.2361089  0.2824471  0.32738808 0.35178992\n",
      "  0.30597353 0.32677048 0.3656115  0.3968728  0.36587828 0.36788952\n",
      "  0.3294425  0.350111   0.36869332 0.38652804 0.36755446 0.3961274\n",
      "  0.36525968 0.40328085 0.3456626  0.36932012 0.33911496 0.38065028\n",
      "  0.3258231  0.361693   0.27220988 0.21535744]\n",
      " [0.05398263 0.03291948 0.22545326 0.27683148 0.35059458 0.36066213\n",
      "  0.34274557 0.3596934  0.41148233 0.43675467 0.41076562 0.38701093\n",
      "  0.39531142 0.40861288 0.43049154 0.42995453 0.418167   0.43664932\n",
      "  0.39490804 0.405303   0.39324975 0.3875058  0.3695316  0.35898116\n",
      "  0.2949256  0.32122812 0.31768727 0.26349115]\n",
      " [0.06613973 0.0409866  0.22077622 0.2784015  0.36562386 0.34064075\n",
      "  0.32435372 0.32892832 0.40219232 0.41498655 0.37949118 0.35962617\n",
      "  0.38874775 0.38705498 0.41246647 0.4162808  0.41692182 0.43616515\n",
      "  0.37854216 0.3988474  0.4070465  0.40984923 0.37437224 0.39658567\n",
      "  0.28584802 0.29352215 0.30547515 0.29935104]\n",
      " [0.05054396 0.03268235 0.23820883 0.29424578 0.3731829  0.37048104\n",
      "  0.36895978 0.3853761  0.39631218 0.42728907 0.4056093  0.4000689\n",
      "  0.40776223 0.41828123 0.4509534  0.4399961  0.39771825 0.4298705\n",
      "  0.39348277 0.4085635  0.42542878 0.416067   0.38791433 0.3814784\n",
      "  0.30421287 0.31410155 0.32939404 0.31545934]\n",
      " [0.06584668 0.04455137 0.24273728 0.2612335  0.33472255 0.34688994\n",
      "  0.35057643 0.37729314 0.35707393 0.371782   0.37337634 0.38347417\n",
      "  0.36914384 0.39713392 0.41446576 0.39574412 0.3371285  0.38147813\n",
      "  0.3733112  0.37745282 0.38290542 0.40518373 0.38601053 0.39509422\n",
      "  0.31036028 0.32248062 0.30923644 0.3043326 ]\n",
      " [0.05171831 0.0348118  0.24125066 0.26277342 0.3669939  0.38455707\n",
      "  0.38890147 0.394397   0.3850713  0.38258705 0.41505584 0.41555595\n",
      "  0.41363707 0.4337379  0.44590384 0.42946512 0.40646586 0.4269462\n",
      "  0.42544413 0.4269407  0.41480607 0.42152378 0.43353933 0.38441285\n",
      "  0.34370014 0.3550754  0.32460707 0.28821212]\n",
      " [0.06489526 0.04164395 0.2301421  0.25066245 0.3746601  0.36904043\n",
      "  0.35442996 0.3563608  0.37239873 0.35920066 0.3995519  0.39183074\n",
      "  0.41403013 0.41230357 0.39872834 0.38470155 0.404296   0.40049994\n",
      "  0.39825544 0.40452662 0.39842245 0.43202844 0.44690743 0.4067174\n",
      "  0.34323907 0.3508747  0.30168334 0.2974766 ]\n",
      " [0.05123655 0.03423872 0.2483028  0.28069162 0.37823737 0.40968177\n",
      "  0.39220876 0.41117138 0.40447193 0.38867947 0.41405645 0.42353228\n",
      "  0.41733277 0.41369852 0.41720876 0.40305817 0.42281988 0.45447865\n",
      "  0.42843205 0.4424737  0.40989578 0.4412893  0.4550509  0.39783737\n",
      "  0.34223023 0.36093536 0.3313032  0.2793226 ]\n",
      " [0.06477885 0.03908065 0.24098875 0.2617439  0.343908   0.35684183\n",
      "  0.35206863 0.36578816 0.3574865  0.3660348  0.38460436 0.407263\n",
      "  0.38547215 0.38511416 0.3956672  0.40062863 0.40682623 0.42578143\n",
      "  0.39679876 0.39140975 0.3618108  0.41222706 0.42437214 0.41155764\n",
      "  0.32442924 0.3530675  0.29746988 0.25642008]\n",
      " [0.04989679 0.03107012 0.26611704 0.3039855  0.38396305 0.38585094\n",
      "  0.41262347 0.42681694 0.41610786 0.41278952 0.41191632 0.42043006\n",
      "  0.42348725 0.41016814 0.41836816 0.4047143  0.4214818  0.44275078\n",
      "  0.43798858 0.42753997 0.41684166 0.46946505 0.4479838  0.40183592\n",
      "  0.3589431  0.3762444  0.3369244  0.26394108]\n",
      " [0.06268395 0.03424541 0.24283889 0.2803106  0.37952602 0.35936704\n",
      "  0.40534952 0.3998816  0.41189155 0.404157   0.39653873 0.38505012\n",
      "  0.4127652  0.39919493 0.4023816  0.38876817 0.4097372  0.40365663\n",
      "  0.4063789  0.40496594 0.42125645 0.46939757 0.42582354 0.4043617\n",
      "  0.3572224  0.38322827 0.3110865  0.28847095]\n",
      " [0.05290661 0.03234088 0.24930051 0.30885395 0.39734328 0.38837212\n",
      "  0.4127355  0.42044318 0.4154359  0.402918   0.42449588 0.42415726\n",
      "  0.42914057 0.41982305 0.41226643 0.4264093  0.4320522  0.43593654\n",
      "  0.43714592 0.43944028 0.42129198 0.46747735 0.4290223  0.4016213\n",
      "  0.3668069  0.38114446 0.32333893 0.28350228]\n",
      " [0.06993803 0.04500655 0.22368266 0.23032121 0.34272587 0.35899866\n",
      "  0.37657192 0.3870369  0.37671843 0.3853081  0.40552515 0.41130564\n",
      "  0.39432305 0.40499806 0.39132753 0.39754048 0.39604843 0.4262756\n",
      "  0.4081487  0.40842712 0.36967596 0.4121353  0.40432405 0.4197999\n",
      "  0.34076682 0.3609588  0.28828    0.26715273]\n",
      " [0.05066893 0.03407498 0.22687262 0.24476215 0.3987465  0.416083\n",
      "  0.408399   0.4158451  0.41562477 0.4127856  0.42654282 0.4193409\n",
      "  0.41850984 0.42402488 0.41631135 0.41028646 0.42226353 0.44479212\n",
      "  0.4413606  0.43812448 0.41169336 0.4378432  0.4425332  0.4365388\n",
      "  0.36120442 0.36518314 0.32512817 0.2713909 ]\n",
      " [0.060521   0.03753016 0.21339735 0.22803211 0.41058126 0.4145672\n",
      "  0.4059417  0.39618555 0.4201761  0.40888557 0.40259913 0.39860442\n",
      "  0.41755307 0.40486225 0.40038896 0.39563584 0.41764164 0.41379735\n",
      "  0.4173255  0.4271933  0.40680283 0.42457166 0.4322988  0.44656545\n",
      "  0.35355943 0.34574097 0.2966923  0.29053187]\n",
      " [0.04853182 0.03222722 0.25795752 0.28971192 0.39773816 0.41850877\n",
      "  0.41353676 0.39691922 0.42627293 0.4204242  0.42530367 0.43520898\n",
      "  0.4234841  0.41637984 0.42175096 0.4156722  0.42230064 0.43576708\n",
      "  0.4530157  0.45159876 0.40732464 0.41928175 0.42347834 0.41235456\n",
      "  0.36276805 0.37418914 0.33057055 0.3036145 ]\n",
      " [0.06308685 0.04209657 0.24779509 0.25651258 0.351779   0.37125883\n",
      "  0.3643761  0.36722988 0.39166868 0.41047004 0.39951634 0.40047458\n",
      "  0.37250775 0.39007616 0.3906512  0.38907674 0.3824187  0.42204657\n",
      "  0.43549615 0.43150398 0.35033244 0.37187833 0.378124   0.39149624\n",
      "  0.3353709  0.35256156 0.30200085 0.29057634]\n",
      " [0.04590771 0.03092763 0.24204819 0.2597356  0.3917265  0.41517794\n",
      "  0.41189188 0.3929374  0.41690397 0.4304671  0.42716217 0.4261636\n",
      "  0.41639847 0.43424833 0.42526495 0.40038887 0.41230494 0.46127748\n",
      "  0.47168583 0.45011437 0.36940512 0.3873873  0.39439556 0.37491307\n",
      "  0.33467075 0.3469026  0.34457964 0.29316536]\n",
      " [0.05718239 0.03519515 0.20850138 0.22827396 0.40374747 0.39369613\n",
      "  0.40409485 0.39898533 0.4172115  0.41597906 0.41127685 0.39951506\n",
      "  0.41178843 0.4180475  0.401999   0.3923115  0.41717905 0.44266373\n",
      "  0.4565701  0.46608534 0.37818262 0.39742908 0.3982332  0.40665317\n",
      "  0.32438326 0.32325682 0.33040136 0.31917208]\n",
      " [0.04383146 0.02988584 0.23090228 0.2791331  0.4110878  0.40366998\n",
      "  0.41343394 0.4107397  0.41971895 0.42346305 0.42495093 0.4147022\n",
      "  0.42666253 0.44473794 0.4113115  0.40431637 0.4222124  0.4504736\n",
      "  0.4493841  0.437317   0.37520912 0.3842542  0.398185   0.38780162\n",
      "  0.32292655 0.33521703 0.34761214 0.3130819 ]\n",
      " [0.061274   0.03988607 0.20834623 0.24351175 0.36362547 0.37958044\n",
      "  0.38389948 0.39040864 0.37708297 0.3922019  0.37901098 0.3851122\n",
      "  0.37964237 0.40082666 0.35242817 0.37452593 0.39838865 0.42174643\n",
      "  0.3839732  0.39634278 0.3423032  0.35446212 0.37373173 0.3930636\n",
      "  0.30911982 0.3122482  0.2988754  0.29026455]\n",
      " [0.05048569 0.03339542 0.21293248 0.2665717  0.4075204  0.41189322\n",
      "  0.41786832 0.4008355  0.42025217 0.44331986 0.42746755 0.40858507\n",
      "  0.41344813 0.43835932 0.40810353 0.39933452 0.44336948 0.4460981\n",
      "  0.3702098  0.381516   0.37747577 0.3804807  0.41024974 0.3941446\n",
      "  0.33302417 0.3309192  0.32979885 0.29307872]\n",
      " [0.06479952 0.03958796 0.19915901 0.22449422 0.3959899  0.38807786\n",
      "  0.3882828  0.3771342  0.41002348 0.4112953  0.39995882 0.38238823\n",
      "  0.38056022 0.38875988 0.4010541  0.40478534 0.43821698 0.46771818\n",
      "  0.3404831  0.3640535  0.39286533 0.39432678 0.40279287 0.41450837\n",
      "  0.33935186 0.31765822 0.32549974 0.31709307]\n",
      " [0.04884914 0.03451481 0.23998314 0.2797783  0.4207839  0.4374434\n",
      "  0.39107    0.38604853 0.41275734 0.4257313  0.43064734 0.43469074\n",
      "  0.4126538  0.44238684 0.44653338 0.4370681  0.41066813 0.4223046\n",
      "  0.31984615 0.3455512  0.39940602 0.3980463  0.3955987  0.39777422\n",
      "  0.3544815  0.3451734  0.35645494 0.30425796]\n",
      " [0.07274229 0.06130019 0.24023075 0.2576282  0.3515884  0.35908157\n",
      "  0.3177363  0.3426864  0.37019885 0.37432748 0.38560757 0.37692773\n",
      "  0.3591618  0.3691205  0.37217644 0.35889152 0.32387    0.33356637\n",
      "  0.26982027 0.28706595 0.3393174  0.3356655  0.325192   0.33718827\n",
      "  0.31997812 0.31470826 0.3179894  0.29549265]]\n"
     ]
    }
   ],
   "source": [
    "image = decoder.predict(np.array([output_encoder[2][0]]))\n",
    "image = image.reshape((28,28))\n",
    "print(image)"
   ]
  },
  {
   "cell_type": "code",
   "execution_count": 213,
   "metadata": {},
   "outputs": [
    {
     "name": "stdout",
     "output_type": "stream",
     "text": [
      "5.3103433 -5.2693357\n"
     ]
    }
   ],
   "source": [
    "max = output_encoder[2].max()\n",
    "min = output_encoder[2].min()\n",
    "print(max, min)"
   ]
  },
  {
   "cell_type": "code",
   "execution_count": 214,
   "metadata": {},
   "outputs": [
    {
     "name": "stdout",
     "output_type": "stream",
     "text": [
      "(28, 28)\n"
     ]
    }
   ],
   "source": [
    "latent = np.random.rand(32)*(max - min) + min\n",
    "decoded_img = decoder.predict(np.array([latent]))\n",
    "decoded_img = decoded_img[0].reshape(28, 28)\n",
    "print(decoded_img.shape)"
   ]
  },
  {
   "cell_type": "code",
   "execution_count": 235,
   "metadata": {},
   "outputs": [
    {
     "data": {
      "text/plain": [
       "<matplotlib.image.AxesImage at 0x641bde4d0>"
      ]
     },
     "execution_count": 235,
     "metadata": {},
     "output_type": "execute_result"
    },
    {
     "data": {
      "image/png": "[encoded data removed]",
      "text/plain": [
       "<Figure size 432x288 with 1 Axes>"
      ]
     },
     "metadata": {
      "needs_background": "light"
     },
     "output_type": "display_data"
    }
   ],
   "source": [
    "plt.figure()\n",
    "plt.imshow(image*255)"
   ]
  },
  {
   "cell_type": "code",
   "execution_count": 62,
   "metadata": {
    "collapsed": true
   },
   "outputs": [
    {
     "name": "stdout",
     "output_type": "stream",
     "text": [
      "(5,)\n",
      "(1, 28, 28, 1)\n",
      "(28, 28)\n",
      "(5,)\n",
      "(1, 28, 28, 1)\n",
      "(28, 28)\n",
      "(5,)\n",
      "(1, 28, 28, 1)\n",
      "(28, 28)\n",
      "(5,)\n",
      "(1, 28, 28, 1)\n",
      "(28, 28)\n",
      "(5,)\n",
      "(1, 28, 28, 1)\n",
      "(28, 28)\n",
      "(5,)\n",
      "(1, 28, 28, 1)\n",
      "(28, 28)\n",
      "(5,)\n",
      "(1, 28, 28, 1)\n",
      "(28, 28)\n",
      "(5,)\n",
      "(1, 28, 28, 1)\n",
      "(28, 28)\n",
      "(5,)\n",
      "(1, 28, 28, 1)\n",
      "(28, 28)\n",
      "(5,)\n",
      "(1, 28, 28, 1)\n",
      "(28, 28)\n",
      "10\n"
     ]
    }
   ],
   "source": [
    "rand_latents = []\n",
    "for i in range(10):\n",
    "    random_latent = np.random.rand(5, )\n",
    "    print(random_latent.shape)\n",
    "    decoded_img = decoder.predict(np.array([random_latent]))\n",
    "    print(decoded_img.shape)\n",
    "    decoded_img_reshape = np.reshape(decoded_img,(28,28))\n",
    "    print(decoded_img_reshape.shape)\n",
    "    rand_latents.append(decoded_img_reshape)\n",
    "\n",
    "print(len(rand_latents))"
   ]
  },
  {
   "cell_type": "code",
   "execution_count": 3,
   "metadata": {},
   "outputs": [
    {
     "ename": "NameError",
     "evalue": "name 'plt' is not defined",
     "output_type": "error",
     "traceback": [
      "\u001b[0;31m---------------------------------------------------------------------------\u001b[0m",
      "\u001b[0;31mNameError\u001b[0m                                 Traceback (most recent call last)",
      "\u001b[0;32m<ipython-input-3-372fbeb17ca7>\u001b[0m in \u001b[0;36m<module>\u001b[0;34m\u001b[0m\n\u001b[1;32m      1\u001b[0m \u001b[0;32mfor\u001b[0m \u001b[0mi\u001b[0m \u001b[0;32min\u001b[0m \u001b[0mrange\u001b[0m\u001b[0;34m(\u001b[0m\u001b[0;36m10\u001b[0m\u001b[0;34m)\u001b[0m\u001b[0;34m:\u001b[0m\u001b[0;34m\u001b[0m\u001b[0;34m\u001b[0m\u001b[0m\n\u001b[0;32m----> 2\u001b[0;31m     \u001b[0max\u001b[0m \u001b[0;34m=\u001b[0m \u001b[0mplt\u001b[0m\u001b[0;34m.\u001b[0m\u001b[0msubplot\u001b[0m\u001b[0;34m(\u001b[0m\u001b[0;36m5\u001b[0m\u001b[0;34m,\u001b[0m \u001b[0;36m5\u001b[0m\u001b[0;34m,\u001b[0m \u001b[0mi\u001b[0m\u001b[0;34m+\u001b[0m\u001b[0;36m1\u001b[0m\u001b[0;34m)\u001b[0m\u001b[0;34m\u001b[0m\u001b[0;34m\u001b[0m\u001b[0m\n\u001b[0m\u001b[1;32m      3\u001b[0m     \u001b[0max\u001b[0m\u001b[0;34m.\u001b[0m\u001b[0mfigsize\u001b[0m\u001b[0;34m(\u001b[0m\u001b[0;36m15\u001b[0m\u001b[0;34m,\u001b[0m\u001b[0;36m15\u001b[0m\u001b[0;34m)\u001b[0m\u001b[0;34m\u001b[0m\u001b[0;34m\u001b[0m\u001b[0m\n\u001b[1;32m      4\u001b[0m     \u001b[0mplt\u001b[0m\u001b[0;34m.\u001b[0m\u001b[0mxticks\u001b[0m\u001b[0;34m(\u001b[0m\u001b[0;34m[\u001b[0m\u001b[0;34m]\u001b[0m\u001b[0;34m)\u001b[0m\u001b[0;34m\u001b[0m\u001b[0;34m\u001b[0m\u001b[0m\n\u001b[1;32m      5\u001b[0m     \u001b[0mplt\u001b[0m\u001b[0;34m.\u001b[0m\u001b[0myticks\u001b[0m\u001b[0;34m(\u001b[0m\u001b[0;34m[\u001b[0m\u001b[0;34m]\u001b[0m\u001b[0;34m)\u001b[0m\u001b[0;34m\u001b[0m\u001b[0;34m\u001b[0m\u001b[0m\n",
      "\u001b[0;31mNameError\u001b[0m: name 'plt' is not defined"
     ]
    }
   ],
   "source": [
    "for i in range(10):\n",
    "    ax = plt.subplot(5, 5, i+1)\n",
    "    ax.figsize(15,15)\n",
    "    plt.xticks([])\n",
    "    plt.yticks([])\n",
    "    plt.grid(False)\n",
    "    plt.imshow(rand_latents[i])\n",
    "plt.show()"
   ]
  },
  {
   "cell_type": "code",
   "execution_count": null,
   "metadata": {},
   "outputs": [],
   "source": []
  }
 ],
 "metadata": {
  "kernelspec": {
   "display_name": "Python 3",
   "language": "python",
   "name": "python3"
  },
  "language_info": {
   "codemirror_mode": {
    "name": "ipython",
    "version": 3
   },
   "file_extension": ".py",
   "mimetype": "text/x-python",
   "name": "python",
   "nbconvert_exporter": "python",
   "pygments_lexer": "ipython3",
   "version": "3.7.6"
  }
 },
 "nbformat": 4,
 "nbformat_minor": 4
}
