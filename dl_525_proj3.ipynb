{
 "cells": [
  {
   "cell_type": "code",
   "execution_count": 1,
   "metadata": {},
   "outputs": [],
   "source": [
    "\"\"\"\n",
    "COSC 525 - Deep Learning\n",
    "Project #3: Building Networks with Tensorflow and Keras\n",
    "Contributors: Anna-Maria Nau and Christoph Metzner\n",
    "Date: 03/10/20\n",
    "\"\"\"\n",
    "import numpy as np\n",
    "import matplotlib.pyplot as plt\n",
    "import time\n",
    "import pandas as pd\n",
    "from sklearn.metrics import confusion_matrix"
   ]
  },
  {
   "cell_type": "code",
   "execution_count": 2,
   "metadata": {},
   "outputs": [],
   "source": [
    "# Import other libraries\n",
    "from tensorflow import keras\n",
    "from tensorflow.keras.models import Sequential\n",
    "from tensorflow.keras import layers"
   ]
  },
  {
   "cell_type": "code",
   "execution_count": 3,
   "metadata": {},
   "outputs": [
    {
     "name": "stderr",
     "output_type": "stream",
     "text": [
      "Using TensorFlow backend.\n"
     ]
    }
   ],
   "source": [
    "# Import fashion-mnist dataset from\n",
    "# https://keras.io/datasets/#fashion-mnist-database-of-fashion-articles\n",
    "# Downloads the data, will take some time so make yourself some tea!\n",
    "\n",
    "\n",
    "from keras.datasets import fashion_mnist\n",
    "(x_train, y_train), (x_test, y_test) = fashion_mnist.load_data()"
   ]
  },
  {
   "cell_type": "code",
   "execution_count": 4,
   "metadata": {},
   "outputs": [
    {
     "name": "stdout",
     "output_type": "stream",
     "text": [
      "Maximal value:  255\n",
      "Minimum value:  0\n"
     ]
    }
   ],
   "source": [
    "max_val = x_train.max()\n",
    "print(\"Maximal value: \", max_val)\n",
    "min_val = x_train.min()\n",
    "print(\"Minimum value: \", min_val)"
   ]
  },
  {
   "cell_type": "code",
   "execution_count": 5,
   "metadata": {},
   "outputs": [],
   "source": [
    "def normalization(matrix, max_val, min_val):\n",
    "    new_matrix = np.array([((image - min_val)/(max_val-min_val)) for image in matrix])\n",
    "    return new_matrix"
   ]
  },
  {
   "cell_type": "code",
   "execution_count": 6,
   "metadata": {
    "scrolled": false
   },
   "outputs": [],
   "source": [
    "# Normalize training (x_train) and testing (x_test) datasets based on maximal and minimal values of the training dataset\n",
    "x_train_scaled = normalization(x_train, max_val, min_val)\n",
    "x_test_scaled = normalization(x_test, max_val, min_val)"
   ]
  },
  {
   "cell_type": "code",
   "execution_count": 7,
   "metadata": {
    "scrolled": true
   },
   "outputs": [
    {
     "name": "stdout",
     "output_type": "stream",
     "text": [
      "[[0.         0.         0.         0.         0.         0.\n",
      "  0.         0.04313725 0.55686275 0.78431373 0.41568627 0.\n",
      "  0.         0.         0.         0.         0.         0.\n",
      "  0.33333333 0.7254902  0.43921569 0.         0.         0.\n",
      "  0.         0.         0.         0.        ]\n",
      " [0.         0.         0.         0.         0.         0.\n",
      "  0.59607843 0.83921569 0.85098039 0.76078431 0.9254902  0.84705882\n",
      "  0.73333333 0.58431373 0.52941176 0.6        0.82745098 0.85098039\n",
      "  0.90588235 0.80392157 0.85098039 0.7372549  0.13333333 0.\n",
      "  0.         0.         0.         0.        ]\n",
      " [0.         0.         0.         0.         0.         0.25882353\n",
      "  0.7254902  0.65098039 0.70588235 0.70980392 0.74509804 0.82745098\n",
      "  0.86666667 0.77254902 0.57254902 0.77647059 0.80784314 0.74901961\n",
      "  0.65882353 0.74509804 0.6745098  0.7372549  0.68627451 0.\n",
      "  0.         0.         0.         0.        ]\n",
      " [0.         0.         0.         0.         0.         0.52941176\n",
      "  0.6        0.62745098 0.68627451 0.70588235 0.66666667 0.72941176\n",
      "  0.73333333 0.74509804 0.7372549  0.74509804 0.73333333 0.68235294\n",
      "  0.76470588 0.7254902  0.68235294 0.63137255 0.68627451 0.23137255\n",
      "  0.         0.         0.         0.        ]\n",
      " [0.         0.         0.         0.         0.         0.63137255\n",
      "  0.57647059 0.62745098 0.66666667 0.69803922 0.69411765 0.70588235\n",
      "  0.65882353 0.67843137 0.68235294 0.67058824 0.7254902  0.72156863\n",
      "  0.7254902  0.6745098  0.67058824 0.64313725 0.68235294 0.47058824\n",
      "  0.         0.         0.         0.        ]\n",
      " [0.         0.         0.         0.         0.00784314 0.68627451\n",
      "  0.57254902 0.56862745 0.65882353 0.69803922 0.70980392 0.7254902\n",
      "  0.70588235 0.72156863 0.69803922 0.70196078 0.73333333 0.74901961\n",
      "  0.75686275 0.74509804 0.70980392 0.67058824 0.6745098  0.61960784\n",
      "  0.         0.         0.         0.        ]\n",
      " [0.         0.         0.         0.         0.1372549  0.69411765\n",
      "  0.60784314 0.54901961 0.59215686 0.6745098  0.74901961 0.73333333\n",
      "  0.72941176 0.73333333 0.72941176 0.73333333 0.71372549 0.74901961\n",
      "  0.76078431 0.7372549  0.70588235 0.63137255 0.63137255 0.7254902\n",
      "  0.         0.         0.         0.        ]\n",
      " [0.         0.         0.         0.         0.23137255 0.66666667\n",
      "  0.6        0.55294118 0.47058824 0.60392157 0.62745098 0.63137255\n",
      "  0.6745098  0.65882353 0.65098039 0.63137255 0.64705882 0.6745098\n",
      "  0.66666667 0.64313725 0.54509804 0.58431373 0.63529412 0.65098039\n",
      "  0.08235294 0.         0.         0.        ]\n",
      " [0.         0.         0.         0.         0.30980392 0.56862745\n",
      "  0.62745098 0.83921569 0.48235294 0.50196078 0.6        0.62745098\n",
      "  0.64313725 0.61960784 0.61568627 0.60392157 0.60784314 0.66666667\n",
      "  0.64705882 0.55294118 0.76470588 0.75686275 0.59607843 0.65098039\n",
      "  0.23921569 0.         0.         0.        ]\n",
      " [0.         0.         0.         0.         0.39215686 0.61568627\n",
      "  0.88235294 0.96078431 0.68627451 0.44313725 0.68235294 0.61960784\n",
      "  0.61960784 0.62745098 0.60784314 0.62745098 0.64313725 0.69803922\n",
      "  0.7372549  0.52941176 0.7254902  0.94117647 0.78823529 0.6745098\n",
      "  0.42352941 0.         0.         0.        ]\n",
      " [0.         0.         0.         0.         0.         0.12156863\n",
      "  0.68235294 0.10980392 0.49411765 0.6        0.65098039 0.59607843\n",
      "  0.61960784 0.61960784 0.62745098 0.63137255 0.61568627 0.65882353\n",
      "  0.74901961 0.7372549  0.07058824 0.51764706 0.62352941 0.02745098\n",
      "  0.         0.         0.         0.        ]\n",
      " [0.         0.         0.         0.         0.         0.\n",
      "  0.         0.         0.32156863 0.73333333 0.62352941 0.6\n",
      "  0.61568627 0.61960784 0.63529412 0.64313725 0.64313725 0.60392157\n",
      "  0.73333333 0.74509804 0.         0.         0.         0.\n",
      "  0.         0.         0.         0.        ]\n",
      " [0.         0.         0.         0.         0.00392157 0.01176471\n",
      "  0.01960784 0.         0.14509804 0.68627451 0.61960784 0.60784314\n",
      "  0.63529412 0.61960784 0.62745098 0.63529412 0.64705882 0.6\n",
      "  0.69411765 0.80392157 0.         0.         0.01176471 0.01176471\n",
      "  0.         0.         0.         0.        ]\n",
      " [0.         0.         0.         0.         0.         0.\n",
      "  0.00392157 0.         0.09803922 0.68627451 0.59607843 0.62745098\n",
      "  0.61960784 0.63137255 0.62745098 0.64313725 0.64313725 0.63137255\n",
      "  0.65098039 0.78431373 0.         0.         0.00392157 0.\n",
      "  0.         0.         0.         0.        ]\n",
      " [0.         0.         0.         0.         0.         0.\n",
      "  0.01568627 0.         0.11764706 0.67058824 0.57647059 0.64313725\n",
      "  0.60784314 0.64705882 0.63137255 0.64705882 0.63529412 0.66666667\n",
      "  0.64313725 0.63529412 0.         0.         0.00784314 0.\n",
      "  0.         0.         0.         0.        ]\n",
      " [0.         0.         0.         0.         0.         0.\n",
      "  0.01568627 0.         0.22352941 0.65098039 0.60784314 0.64313725\n",
      "  0.65098039 0.63137255 0.63137255 0.64313725 0.65490196 0.64705882\n",
      "  0.64705882 0.63529412 0.10980392 0.         0.01176471 0.\n",
      "  0.         0.         0.         0.        ]\n",
      " [0.         0.         0.         0.         0.         0.\n",
      "  0.01176471 0.         0.44705882 0.63137255 0.63137255 0.65098039\n",
      "  0.62352941 0.65882353 0.63137255 0.63137255 0.6745098  0.63529412\n",
      "  0.64705882 0.67058824 0.19607843 0.         0.01960784 0.\n",
      "  0.         0.         0.         0.        ]\n",
      " [0.         0.         0.         0.         0.         0.\n",
      "  0.00392157 0.         0.58431373 0.61568627 0.65490196 0.6745098\n",
      "  0.62352941 0.6745098  0.64313725 0.63137255 0.6745098  0.66666667\n",
      "  0.62745098 0.67058824 0.34901961 0.         0.01568627 0.\n",
      "  0.         0.         0.         0.        ]\n",
      " [0.         0.         0.         0.         0.         0.00784314\n",
      "  0.         0.01568627 0.67058824 0.64313725 0.65098039 0.67843137\n",
      "  0.62352941 0.70196078 0.65098039 0.62745098 0.68235294 0.65490196\n",
      "  0.63529412 0.65098039 0.50196078 0.         0.00784314 0.\n",
      "  0.         0.         0.         0.        ]\n",
      " [0.         0.         0.         0.         0.         0.01176471\n",
      "  0.         0.07058824 0.59607843 0.67843137 0.62745098 0.70196078\n",
      "  0.60392157 0.70980392 0.65098039 0.64313725 0.68627451 0.66666667\n",
      "  0.65098039 0.66666667 0.64313725 0.         0.         0.00392157\n",
      "  0.         0.         0.         0.        ]\n",
      " [0.         0.         0.         0.         0.         0.01568627\n",
      "  0.         0.18431373 0.64705882 0.6745098  0.65490196 0.7254902\n",
      "  0.6        0.73333333 0.67843137 0.64705882 0.68235294 0.70196078\n",
      "  0.65098039 0.65098039 0.61960784 0.01960784 0.         0.01176471\n",
      "  0.         0.         0.         0.        ]\n",
      " [0.         0.         0.         0.         0.         0.01568627\n",
      "  0.         0.34117647 0.70588235 0.63529412 0.70196078 0.70196078\n",
      "  0.61568627 0.74901961 0.71372549 0.64705882 0.65882353 0.74509804\n",
      "  0.67843137 0.64705882 0.65098039 0.07843137 0.         0.01568627\n",
      "  0.         0.         0.         0.        ]\n",
      " [0.         0.         0.         0.         0.         0.01568627\n",
      "  0.         0.41176471 0.73333333 0.61568627 0.76078431 0.68627451\n",
      "  0.63137255 0.74509804 0.72156863 0.66666667 0.61960784 0.80392157\n",
      "  0.69411765 0.65882353 0.67058824 0.17254902 0.         0.01568627\n",
      "  0.         0.         0.         0.        ]\n",
      " [0.         0.         0.         0.         0.         0.01960784\n",
      "  0.         0.54117647 0.70980392 0.61960784 0.80392157 0.62745098\n",
      "  0.65490196 0.74509804 0.77647059 0.65490196 0.59607843 0.85490196\n",
      "  0.72941176 0.66666667 0.6745098  0.22352941 0.         0.01960784\n",
      "  0.         0.         0.         0.        ]\n",
      " [0.         0.         0.         0.         0.         0.01960784\n",
      "  0.         0.52941176 0.68235294 0.65490196 0.78039216 0.60784314\n",
      "  0.65098039 0.78823529 0.85882353 0.64705882 0.61960784 0.85490196\n",
      "  0.7372549  0.65490196 0.68627451 0.21960784 0.         0.02745098\n",
      "  0.         0.         0.         0.        ]\n",
      " [0.         0.         0.         0.         0.         0.01960784\n",
      "  0.         0.50588235 0.67058824 0.6745098  0.69411765 0.6\n",
      "  0.62352941 0.80784314 0.84705882 0.58039216 0.61568627 0.80784314\n",
      "  0.74509804 0.64705882 0.68627451 0.18823529 0.         0.01960784\n",
      "  0.         0.         0.         0.        ]\n",
      " [0.         0.         0.         0.         0.         0.01960784\n",
      "  0.         0.65490196 0.73333333 0.71372549 0.77647059 0.76078431\n",
      "  0.78431373 0.88627451 0.94117647 0.72156863 0.80784314 1.\n",
      "  0.77254902 0.69803922 0.70196078 0.16470588 0.         0.01960784\n",
      "  0.         0.         0.         0.        ]\n",
      " [0.         0.         0.         0.         0.         0.01176471\n",
      "  0.         0.45098039 0.52941176 0.44313725 0.41568627 0.33333333\n",
      "  0.32156863 0.42352941 0.52156863 0.3254902  0.35294118 0.4745098\n",
      "  0.47058824 0.43137255 0.61960784 0.07058824 0.         0.01176471\n",
      "  0.         0.         0.         0.        ]]\n",
      "[[  0   0   0   0   0   0   0  11 142 200 106   0   0   0   0   0   0   0\n",
      "   85 185 112   0   0   0   0   0   0   0]\n",
      " [  0   0   0   0   0   0 152 214 217 194 236 216 187 149 135 153 211 217\n",
      "  231 205 217 188  34   0   0   0   0   0]\n",
      " [  0   0   0   0   0  66 185 166 180 181 190 211 221 197 146 198 206 191\n",
      "  168 190 172 188 175   0   0   0   0   0]\n",
      " [  0   0   0   0   0 135 153 160 175 180 170 186 187 190 188 190 187 174\n",
      "  195 185 174 161 175  59   0   0   0   0]\n",
      " [  0   0   0   0   0 161 147 160 170 178 177 180 168 173 174 171 185 184\n",
      "  185 172 171 164 174 120   0   0   0   0]\n",
      " [  0   0   0   0   2 175 146 145 168 178 181 185 180 184 178 179 187 191\n",
      "  193 190 181 171 172 158   0   0   0   0]\n",
      " [  0   0   0   0  35 177 155 140 151 172 191 187 186 187 186 187 182 191\n",
      "  194 188 180 161 161 185   0   0   0   0]\n",
      " [  0   0   0   0  59 170 153 141 120 154 160 161 172 168 166 161 165 172\n",
      "  170 164 139 149 162 166  21   0   0   0]\n",
      " [  0   0   0   0  79 145 160 214 123 128 153 160 164 158 157 154 155 170\n",
      "  165 141 195 193 152 166  61   0   0   0]\n",
      " [  0   0   0   0 100 157 225 245 175 113 174 158 158 160 155 160 164 178\n",
      "  188 135 185 240 201 172 108   0   0   0]\n",
      " [  0   0   0   0   0  31 174  28 126 153 166 152 158 158 160 161 157 168\n",
      "  191 188  18 132 159   7   0   0   0   0]\n",
      " [  0   0   0   0   0   0   0   0  82 187 159 153 157 158 162 164 164 154\n",
      "  187 190   0   0   0   0   0   0   0   0]\n",
      " [  0   0   0   0   1   3   5   0  37 175 158 155 162 158 160 162 165 153\n",
      "  177 205   0   0   3   3   0   0   0   0]\n",
      " [  0   0   0   0   0   0   1   0  25 175 152 160 158 161 160 164 164 161\n",
      "  166 200   0   0   1   0   0   0   0   0]\n",
      " [  0   0   0   0   0   0   4   0  30 171 147 164 155 165 161 165 162 170\n",
      "  164 162   0   0   2   0   0   0   0   0]\n",
      " [  0   0   0   0   0   0   4   0  57 166 155 164 166 161 161 164 167 165\n",
      "  165 162  28   0   3   0   0   0   0   0]\n",
      " [  0   0   0   0   0   0   3   0 114 161 161 166 159 168 161 161 172 162\n",
      "  165 171  50   0   5   0   0   0   0   0]\n",
      " [  0   0   0   0   0   0   1   0 149 157 167 172 159 172 164 161 172 170\n",
      "  160 171  89   0   4   0   0   0   0   0]\n",
      " [  0   0   0   0   0   2   0   4 171 164 166 173 159 179 166 160 174 167\n",
      "  162 166 128   0   2   0   0   0   0   0]\n",
      " [  0   0   0   0   0   3   0  18 152 173 160 179 154 181 166 164 175 170\n",
      "  166 170 164   0   0   1   0   0   0   0]\n",
      " [  0   0   0   0   0   4   0  47 165 172 167 185 153 187 173 165 174 179\n",
      "  166 166 158   5   0   3   0   0   0   0]\n",
      " [  0   0   0   0   0   4   0  87 180 162 179 179 157 191 182 165 168 190\n",
      "  173 165 166  20   0   4   0   0   0   0]\n",
      " [  0   0   0   0   0   4   0 105 187 157 194 175 161 190 184 170 158 205\n",
      "  177 168 171  44   0   4   0   0   0   0]\n",
      " [  0   0   0   0   0   5   0 138 181 158 205 160 167 190 198 167 152 218\n",
      "  186 170 172  57   0   5   0   0   0   0]\n",
      " [  0   0   0   0   0   5   0 135 174 167 199 155 166 201 219 165 158 218\n",
      "  188 167 175  56   0   7   0   0   0   0]\n",
      " [  0   0   0   0   0   5   0 129 171 172 177 153 159 206 216 148 157 206\n",
      "  190 165 175  48   0   5   0   0   0   0]\n",
      " [  0   0   0   0   0   5   0 167 187 182 198 194 200 226 240 184 206 255\n",
      "  197 178 179  42   0   5   0   0   0   0]\n",
      " [  0   0   0   0   0   3   0 115 135 113 106  85  82 108 133  83  90 121\n",
      "  120 110 158  18   0   3   0   0   0   0]]\n",
      "(60000, 28, 28)\n"
     ]
    },
    {
     "ename": "NameError",
     "evalue": "name 'x_train_scale' is not defined",
     "output_type": "error",
     "traceback": [
      "\u001b[1;31m---------------------------------------------------------------------------\u001b[0m",
      "\u001b[1;31mNameError\u001b[0m                                 Traceback (most recent call last)",
      "\u001b[1;32m<ipython-input-7-bfd64521d649>\u001b[0m in \u001b[0;36m<module>\u001b[1;34m\u001b[0m\n\u001b[0;32m      3\u001b[0m \u001b[0mprint\u001b[0m\u001b[1;33m(\u001b[0m\u001b[0mx_train\u001b[0m\u001b[1;33m[\u001b[0m\u001b[1;36m10\u001b[0m\u001b[1;33m]\u001b[0m\u001b[1;33m)\u001b[0m\u001b[1;33m\u001b[0m\u001b[1;33m\u001b[0m\u001b[0m\n\u001b[0;32m      4\u001b[0m \u001b[0mprint\u001b[0m\u001b[1;33m(\u001b[0m\u001b[0mx_train\u001b[0m\u001b[1;33m.\u001b[0m\u001b[0mshape\u001b[0m\u001b[1;33m)\u001b[0m\u001b[1;33m\u001b[0m\u001b[1;33m\u001b[0m\u001b[0m\n\u001b[1;32m----> 5\u001b[1;33m \u001b[0mprint\u001b[0m\u001b[1;33m(\u001b[0m\u001b[0mx_train_scale\u001b[0m\u001b[1;33m.\u001b[0m\u001b[0mshape\u001b[0m\u001b[1;33m)\u001b[0m\u001b[1;33m\u001b[0m\u001b[1;33m\u001b[0m\u001b[0m\n\u001b[0m",
      "\u001b[1;31mNameError\u001b[0m: name 'x_train_scale' is not defined"
     ]
    }
   ],
   "source": [
    "# Show normalized image matrix and original matrix\n",
    "print(x_train_scaled[10])\n",
    "print(x_train[10])\n",
    "print(x_train.shape)\n",
    "print(x_train_scale.shape)"
   ]
  },
  {
   "cell_type": "code",
   "execution_count": 8,
   "metadata": {},
   "outputs": [
    {
     "data": {
      "image/png": "[encoded data removed]",
      "text/plain": [
       "<Figure size 432x288 with 2 Axes>"
      ]
     },
     "metadata": {
      "needs_background": "light"
     },
     "output_type": "display_data"
    },
    {
     "data": {
      "image/png": "[encoded data removed]",
      "text/plain": [
       "<Figure size 720x720 with 25 Axes>"
      ]
     },
     "metadata": {},
     "output_type": "display_data"
    }
   ],
   "source": [
    "# from https://www.tensorflow.org/tutorials/keras/classification\n",
    "class_names = ['T-shirt/top', 'Trouser', 'Pullover', 'Dress', 'Coat',\n",
    "               'Sandal', 'Shirt', 'Sneaker', 'Bag', 'Ankle boot']\n",
    "\n",
    "# Plot first image of the training dataset\n",
    "plt.figure()\n",
    "plt.imshow(x_train[0])\n",
    "plt.colorbar()\n",
    "plt.grid(False)\n",
    "plt.show()\n",
    "##########\n",
    "\n",
    "# Plot the first images plus their labels \n",
    "plt.figure(figsize=(10,10))\n",
    "for i in range(25):\n",
    "    plt.subplot(5,5,i+1)\n",
    "    plt.xticks([])\n",
    "    plt.yticks([])\n",
    "    plt.grid(False)\n",
    "    plt.imshow(x_train[i], cmap=plt.cm.binary)\n",
    "    plt.xlabel(class_names[y_train[i]])\n",
    "plt.show()\n"
   ]
  },
  {
   "cell_type": "code",
   "execution_count": 9,
   "metadata": {},
   "outputs": [],
   "source": [
    "# from https://stackoverflow.com/questions/43178668/record-the-computation-time-for-each-epoch-in-keras-during-model-fit\n",
    "# Class which enables to store the execution time per epoch\n",
    "class TimeHistory(keras.callbacks.Callback):\n",
    "    def on_train_begin(self, logs={}):\n",
    "        self.times = []\n",
    "\n",
    "    def on_epoch_begin(self, batch, logs={}):\n",
    "        self.epoch_time_start = time.time()\n",
    "\n",
    "    def on_epoch_end(self, batch, logs={}):\n",
    "        self.times.append(time.time() - self.epoch_time_start)"
   ]
  },
  {
   "cell_type": "markdown",
   "metadata": {},
   "source": [
    "# Task 1: Fully Connected Neural Network"
   ]
  },
  {
   "cell_type": "code",
   "execution_count": 10,
   "metadata": {},
   "outputs": [],
   "source": [
    "FC_model = keras.Sequential([\n",
    "    keras.layers.Flatten(input_shape=(28, 28), name=\"FC_Input_Layer\"),\n",
    "    keras.layers.Dense(784, activation='tanh', name=\"FC_Hidden_Layer_1\"),\n",
    "    keras.layers.Dense(512, activation='sigmoid',name=\"FC_Hidden_Layer_2\"),\n",
    "    keras.layers.Dense(100, activation='relu', name=\"FC_Hidden_Layer_3\"),\n",
    "    keras.layers.Dense(10, activation='softmax', name=\"FC_Output_Layer\")],\n",
    "    name='Fully_Connected_NN')"
   ]
  },
  {
   "cell_type": "code",
   "execution_count": 11,
   "metadata": {},
   "outputs": [
    {
     "name": "stdout",
     "output_type": "stream",
     "text": [
      "Model: \"Fully_Connected_NN\"\n",
      "_________________________________________________________________\n",
      "Layer (type)                 Output Shape              Param #   \n",
      "=================================================================\n",
      "FC_Input_Layer (Flatten)     (None, 784)               0         \n",
      "_________________________________________________________________\n",
      "FC_Hidden_Layer_1 (Dense)    (None, 784)               615440    \n",
      "_________________________________________________________________\n",
      "FC_Hidden_Layer_2 (Dense)    (None, 512)               401920    \n",
      "_________________________________________________________________\n",
      "FC_Hidden_Layer_3 (Dense)    (None, 100)               51300     \n",
      "_________________________________________________________________\n",
      "FC_Output_Layer (Dense)      (None, 10)                1010      \n",
      "=================================================================\n",
      "Total params: 1,069,670\n",
      "Trainable params: 1,069,670\n",
      "Non-trainable params: 0\n",
      "_________________________________________________________________\n",
      "None\n"
     ]
    }
   ],
   "source": [
    "print(FC_model.summary())"
   ]
  },
  {
   "cell_type": "code",
   "execution_count": 12,
   "metadata": {},
   "outputs": [],
   "source": [
    "# Compile the model\n",
    "FC_model.compile(optimizer='sgd',\n",
    "              loss=keras.losses.SparseCategoricalCrossentropy(from_logits=False),\n",
    "              metrics=['accuracy'])\n",
    "time_callback_train = TimeHistory()\n",
    "time_callback_test = TimeHistory()"
   ]
  },
  {
   "cell_type": "code",
   "execution_count": 13,
   "metadata": {
    "scrolled": true
   },
   "outputs": [
    {
     "name": "stdout",
     "output_type": "stream",
     "text": [
      "Train on 60000 samples\n",
      "Epoch 1/50\n",
      "60000/60000 [==============================] - 7s 116us/sample - loss: 1.7611 - accuracy: 0.5750\n",
      "Epoch 2/50\n",
      "60000/60000 [==============================] - 6s 101us/sample - loss: 1.0564 - accuracy: 0.7175\n",
      "Epoch 3/50\n",
      "60000/60000 [==============================] - 6s 102us/sample - loss: 0.8140 - accuracy: 0.7427\n",
      "Epoch 4/50\n",
      "60000/60000 [==============================] - 6s 93us/sample - loss: 0.7115 - accuracy: 0.7579\n",
      "Epoch 5/50\n",
      "60000/60000 [==============================] - 6s 103us/sample - loss: 0.6554 - accuracy: 0.7695\n",
      "Epoch 6/50\n",
      "60000/60000 [==============================] - 7s 116us/sample - loss: 0.6187 - accuracy: 0.7801\n",
      "Epoch 7/50\n",
      "60000/60000 [==============================] - 7s 117us/sample - loss: 0.5908 - accuracy: 0.7891\n",
      "Epoch 8/50\n",
      "60000/60000 [==============================] - 7s 114us/sample - loss: 0.5685 - accuracy: 0.7978\n",
      "Epoch 9/50\n",
      "60000/60000 [==============================] - 6s 104us/sample - loss: 0.5499 - accuracy: 0.8037 - loss:\n",
      "Epoch 10/50\n",
      "60000/60000 [==============================] - 7s 117us/sample - loss: 0.5346 - accuracy: 0.8101\n",
      "Epoch 11/50\n",
      "60000/60000 [==============================] - 7s 114us/sample - loss: 0.5215 - accuracy: 0.8145\n",
      "Epoch 12/50\n",
      "60000/60000 [==============================] - 7s 122us/sample - loss: 0.5098 - accuracy: 0.8183\n",
      "Epoch 13/50\n",
      "60000/60000 [==============================] - 8s 142us/sample - loss: 0.5001 - accuracy: 0.8224\n",
      "Epoch 14/50\n",
      "60000/60000 [==============================] - 7s 118us/sample - loss: 0.4916 - accuracy: 0.8260\n",
      "Epoch 15/50\n",
      "60000/60000 [==============================] - 7s 118us/sample - loss: 0.4845 - accuracy: 0.8273\n",
      "Epoch 16/50\n",
      "60000/60000 [==============================] - 6s 97us/sample - loss: 0.4775 - accuracy: 0.8310\n",
      "Epoch 17/50\n",
      "60000/60000 [==============================] - 7s 123us/sample - loss: 0.4713 - accuracy: 0.8329\n",
      "Epoch 18/50\n",
      "60000/60000 [==============================] - 7s 115us/sample - loss: 0.4660 - accuracy: 0.8346\n",
      "Epoch 19/50\n",
      "60000/60000 [==============================] - 7s 111us/sample - loss: 0.4612 - accuracy: 0.8368\n",
      "Epoch 20/50\n",
      "60000/60000 [==============================] - 6s 96us/sample - loss: 0.4561 - accuracy: 0.8391\n",
      "Epoch 21/50\n",
      "60000/60000 [==============================] - 5s 91us/sample - loss: 0.4519 - accuracy: 0.8401\n",
      "Epoch 22/50\n",
      "60000/60000 [==============================] - 6s 97us/sample - loss: 0.4478 - accuracy: 0.8411\n",
      "Epoch 23/50\n",
      "60000/60000 [==============================] - 7s 124us/sample - loss: 0.4443 - accuracy: 0.8430\n",
      "Epoch 24/50\n",
      "60000/60000 [==============================] - 7s 111us/sample - loss: 0.4410 - accuracy: 0.8444\n",
      "Epoch 25/50\n",
      "60000/60000 [==============================] - 6s 104us/sample - loss: 0.4377 - accuracy: 0.8449\n",
      "Epoch 26/50\n",
      "60000/60000 [==============================] - 6s 104us/sample - loss: 0.4345 - accuracy: 0.8464\n",
      "Epoch 27/50\n",
      "60000/60000 [==============================] - 6s 103us/sample - loss: 0.4315 - accuracy: 0.8471\n",
      "Epoch 28/50\n",
      "60000/60000 [==============================] - 6s 104us/sample - loss: 0.4287 - accuracy: 0.8483\n",
      "Epoch 29/50\n",
      "60000/60000 [==============================] - 6s 103us/sample - loss: 0.4259 - accuracy: 0.8492\n",
      "Epoch 30/50\n",
      "60000/60000 [==============================] - 7s 112us/sample - loss: 0.4231 - accuracy: 0.8507\n",
      "Epoch 31/50\n",
      "60000/60000 [==============================] - 7s 109us/sample - loss: 0.4204 - accuracy: 0.8512 - loss: - ETA: 0s - loss: 0.4199 - \n",
      "Epoch 32/50\n",
      "60000/60000 [==============================] - 6s 105us/sample - loss: 0.4184 - accuracy: 0.8522\n",
      "Epoch 33/50\n",
      "60000/60000 [==============================] - 6s 107us/sample - loss: 0.4162 - accuracy: 0.8523\n",
      "Epoch 34/50\n",
      "60000/60000 [==============================] - 6s 105us/sample - loss: 0.4142 - accuracy: 0.8542\n",
      "Epoch 35/50\n",
      "60000/60000 [==============================] - 6s 105us/sample - loss: 0.4120 - accuracy: 0.8549\n",
      "Epoch 36/50\n",
      "60000/60000 [==============================] - 6s 107us/sample - loss: 0.4098 - accuracy: 0.8554\n",
      "Epoch 37/50\n",
      "60000/60000 [==============================] - 6s 103us/sample - loss: 0.4081 - accuracy: 0.8565\n",
      "Epoch 38/50\n",
      "60000/60000 [==============================] - 6s 106us/sample - loss: 0.4057 - accuracy: 0.8558\n",
      "Epoch 39/50\n",
      "60000/60000 [==============================] - 6s 105us/sample - loss: 0.4041 - accuracy: 0.8578\n",
      "Epoch 40/50\n",
      "60000/60000 [==============================] - 6s 104us/sample - loss: 0.4020 - accuracy: 0.8583\n",
      "Epoch 41/50\n",
      "60000/60000 [==============================] - 6s 105us/sample - loss: 0.4002 - accuracy: 0.8587\n",
      "Epoch 42/50\n",
      "60000/60000 [==============================] - 6s 105us/sample - loss: 0.3990 - accuracy: 0.8594\n",
      "Epoch 43/50\n",
      "60000/60000 [==============================] - 6s 105us/sample - loss: 0.3972 - accuracy: 0.8604\n",
      "Epoch 44/50\n",
      "60000/60000 [==============================] - 6s 105us/sample - loss: 0.3955 - accuracy: 0.8605\n",
      "Epoch 45/50\n",
      "60000/60000 [==============================] - 6s 107us/sample - loss: 0.3939 - accuracy: 0.8616\n",
      "Epoch 46/50\n",
      "60000/60000 [==============================] - 6s 107us/sample - loss: 0.3925 - accuracy: 0.8616\n",
      "Epoch 47/50\n",
      "60000/60000 [==============================] - 6s 107us/sample - loss: 0.3907 - accuracy: 0.8623\n",
      "Epoch 48/50\n",
      "60000/60000 [==============================] - 6s 106us/sample - loss: 0.3895 - accuracy: 0.8625\n",
      "Epoch 49/50\n",
      "60000/60000 [==============================] - 6s 104us/sample - loss: 0.3882 - accuracy: 0.8630\n",
      "Epoch 50/50\n",
      "60000/60000 [==============================] - 6s 106us/sample - loss: 0.3868 - accuracy: 0.8626\n",
      "\n",
      "Reported times per epoch: \n",
      "  [6.945368528366089, 6.034307479858398, 6.10387921333313, 5.57461404800415, 6.18646240234375, 6.976561546325684, 7.009710073471069, 6.86639928817749, 6.234451055526733, 7.014367341995239, 6.832313060760498, 7.320056200027466, 8.494974374771118, 7.067127227783203, 7.074310302734375, 5.795122146606445, 7.40910792350769, 6.929145574569702, 6.648541212081909, 5.742573499679565, 5.466640472412109, 5.822829008102417, 7.462382078170776, 6.674614191055298, 6.2357094287872314, 6.235206365585327, 6.182387590408325, 6.254146337509155, 6.177739143371582, 6.694415092468262, 6.538700103759766, 6.299816131591797, 6.396032333374023, 6.311070442199707, 6.312833309173584, 6.4335105419158936, 6.202750205993652, 6.356945037841797, 6.282716512680054, 6.240912675857544, 6.285151481628418, 6.2720019817352295, 6.294103384017944, 6.2702476978302, 6.4390833377838135, 6.390828609466553, 6.410634756088257, 6.358971834182739, 6.266578912734985, 6.34754204750061]\n"
     ]
    }
   ],
   "source": [
    "# Fit the model and get time\n",
    "history = FC_model.fit(x_train_scaled, y_train, epochs=50, batch_size=200, callbacks=[time_callback_train])\n",
    "times_train = time_callback_train.times\n",
    "print()\n",
    "print(\"Reported times per epoch: \\n \", times_train)"
   ]
  },
  {
   "cell_type": "code",
   "execution_count": 15,
   "metadata": {},
   "outputs": [
    {
     "name": "stdout",
     "output_type": "stream",
     "text": [
      "10000/1 - 0s - loss: 0.4152 - accuracy: 0.8465\n",
      "0.4877345561981201\n"
     ]
    }
   ],
   "source": [
    "# Evaluate the model by using the test dataset\n",
    "test_start_time = time.time()\n",
    "test_loss, test_acc = FC_model.evaluate(x_test_scaled, y_test, batch_size=200, verbose=2, callbacks=[time_callback_test])\n",
    "test_end_time = time.time() - test_start_time\n",
    "print(test_end_time)"
   ]
  },
  {
   "cell_type": "code",
   "execution_count": 16,
   "metadata": {},
   "outputs": [
    {
     "data": {
      "image/png": "[encoded data removed]",
      "text/plain": [
       "<Figure size 432x288 with 1 Axes>"
      ]
     },
     "metadata": {
      "needs_background": "light"
     },
     "output_type": "display_data"
    },
    {
     "data": {
      "image/png": "[encoded data removed]",
      "text/plain": [
       "<Figure size 432x288 with 1 Axes>"
      ]
     },
     "metadata": {
      "needs_background": "light"
     },
     "output_type": "display_data"
    },
    {
     "data": {
      "image/png": "[encoded data removed]",
      "text/plain": [
       "<Figure size 432x288 with 1 Axes>"
      ]
     },
     "metadata": {
      "needs_background": "light"
     },
     "output_type": "display_data"
    }
   ],
   "source": [
    "import matplotlib.pyplot as plt\n",
    "\n",
    "# Plot training accuracy values vs epochs\n",
    "plt.plot(history.history['accuracy'])\n",
    "plt.title('Model accuracy vs Epochs')\n",
    "plt.ylabel('Accuracy')\n",
    "plt.xlabel('Epoch')\n",
    "plt.legend(['Train', 'Test'], loc='upper left')\n",
    "plt.show()\n",
    "\n",
    "# Plot training loss values vs epochs\n",
    "plt.plot(history.history['loss'])\n",
    "plt.title('Model loss vs Epochs')\n",
    "plt.ylabel('Loss')\n",
    "plt.xlabel('Epoch')\n",
    "plt.legend(['Train', 'Test'], loc='upper left')\n",
    "plt.show()\n",
    "\n",
    "# Plot training time vs epochs\n",
    "plt.plot(range(0,len(times_train)), times_train)\n",
    "plt.title('Model Time vs Epochs')\n",
    "plt.ylabel('Time')\n",
    "plt.xlabel('Epoch')\n",
    "plt.legend(['Train'], loc='upper left')\n",
    "plt.show()"
   ]
  },
  {
   "cell_type": "code",
   "execution_count": 17,
   "metadata": {},
   "outputs": [],
   "source": [
    "def conf_matrix(model, x_test, y_test):\n",
    "    # Generate prediction output from model using scaled testing dataset\n",
    "    # Using keras predict_classes\n",
    "    predictions = model.predict_classes(x_test, verbose=2)\n",
    "\n",
    "    # Creating the confusion matrix using sklearn library\n",
    "    conf_matrix = sklearn.confusion_matrix(y_test, predictions)\n",
    "    # Changing confusing matrix output using pandas library\n",
    "    conf_matrix = pd.DataFrame(conf_matrix)\n",
    "    conf_matrix\n",
    "    # Changing index / columns names to class names of output\n",
    "    conf_matrix.columns = class_names\n",
    "    conf_matrix.index = class_names\n",
    "    display(conf_matrix)\n",
    "    return conf_matrix"
   ]
  },
  {
   "cell_type": "code",
   "execution_count": 20,
   "metadata": {},
   "outputs": [
    {
     "data": {
      "text/html": [
       "<div>\n",
       "<style scoped>\n",
       "    .dataframe tbody tr th:only-of-type {\n",
       "        vertical-align: middle;\n",
       "    }\n",
       "\n",
       "    .dataframe tbody tr th {\n",
       "        vertical-align: top;\n",
       "    }\n",
       "\n",
       "    .dataframe thead th {\n",
       "        text-align: right;\n",
       "    }\n",
       "</style>\n",
       "<table border=\"1\" class=\"dataframe\">\n",
       "  <thead>\n",
       "    <tr style=\"text-align: right;\">\n",
       "      <th></th>\n",
       "      <th>T-shirt/top</th>\n",
       "      <th>Trouser</th>\n",
       "      <th>Pullover</th>\n",
       "      <th>Dress</th>\n",
       "      <th>Coat</th>\n",
       "      <th>Sandal</th>\n",
       "      <th>Shirt</th>\n",
       "      <th>Sneaker</th>\n",
       "      <th>Bag</th>\n",
       "      <th>Ankle boot</th>\n",
       "    </tr>\n",
       "  </thead>\n",
       "  <tbody>\n",
       "    <tr>\n",
       "      <th>T-shirt/top</th>\n",
       "      <td>803</td>\n",
       "      <td>1</td>\n",
       "      <td>14</td>\n",
       "      <td>57</td>\n",
       "      <td>5</td>\n",
       "      <td>1</td>\n",
       "      <td>105</td>\n",
       "      <td>0</td>\n",
       "      <td>13</td>\n",
       "      <td>1</td>\n",
       "    </tr>\n",
       "    <tr>\n",
       "      <th>Trouser</th>\n",
       "      <td>1</td>\n",
       "      <td>953</td>\n",
       "      <td>7</td>\n",
       "      <td>29</td>\n",
       "      <td>4</td>\n",
       "      <td>0</td>\n",
       "      <td>5</td>\n",
       "      <td>0</td>\n",
       "      <td>1</td>\n",
       "      <td>0</td>\n",
       "    </tr>\n",
       "    <tr>\n",
       "      <th>Pullover</th>\n",
       "      <td>16</td>\n",
       "      <td>4</td>\n",
       "      <td>751</td>\n",
       "      <td>13</td>\n",
       "      <td>134</td>\n",
       "      <td>1</td>\n",
       "      <td>75</td>\n",
       "      <td>0</td>\n",
       "      <td>6</td>\n",
       "      <td>0</td>\n",
       "    </tr>\n",
       "    <tr>\n",
       "      <th>Dress</th>\n",
       "      <td>22</td>\n",
       "      <td>10</td>\n",
       "      <td>14</td>\n",
       "      <td>879</td>\n",
       "      <td>36</td>\n",
       "      <td>1</td>\n",
       "      <td>34</td>\n",
       "      <td>0</td>\n",
       "      <td>4</td>\n",
       "      <td>0</td>\n",
       "    </tr>\n",
       "    <tr>\n",
       "      <th>Coat</th>\n",
       "      <td>0</td>\n",
       "      <td>0</td>\n",
       "      <td>97</td>\n",
       "      <td>35</td>\n",
       "      <td>789</td>\n",
       "      <td>1</td>\n",
       "      <td>72</td>\n",
       "      <td>0</td>\n",
       "      <td>6</td>\n",
       "      <td>0</td>\n",
       "    </tr>\n",
       "    <tr>\n",
       "      <th>Sandal</th>\n",
       "      <td>0</td>\n",
       "      <td>0</td>\n",
       "      <td>0</td>\n",
       "      <td>1</td>\n",
       "      <td>0</td>\n",
       "      <td>899</td>\n",
       "      <td>0</td>\n",
       "      <td>59</td>\n",
       "      <td>5</td>\n",
       "      <td>36</td>\n",
       "    </tr>\n",
       "    <tr>\n",
       "      <th>Shirt</th>\n",
       "      <td>132</td>\n",
       "      <td>1</td>\n",
       "      <td>115</td>\n",
       "      <td>45</td>\n",
       "      <td>103</td>\n",
       "      <td>0</td>\n",
       "      <td>577</td>\n",
       "      <td>0</td>\n",
       "      <td>27</td>\n",
       "      <td>0</td>\n",
       "    </tr>\n",
       "    <tr>\n",
       "      <th>Sneaker</th>\n",
       "      <td>0</td>\n",
       "      <td>0</td>\n",
       "      <td>0</td>\n",
       "      <td>0</td>\n",
       "      <td>0</td>\n",
       "      <td>30</td>\n",
       "      <td>0</td>\n",
       "      <td>935</td>\n",
       "      <td>0</td>\n",
       "      <td>35</td>\n",
       "    </tr>\n",
       "    <tr>\n",
       "      <th>Bag</th>\n",
       "      <td>3</td>\n",
       "      <td>1</td>\n",
       "      <td>12</td>\n",
       "      <td>11</td>\n",
       "      <td>3</td>\n",
       "      <td>3</td>\n",
       "      <td>19</td>\n",
       "      <td>5</td>\n",
       "      <td>943</td>\n",
       "      <td>0</td>\n",
       "    </tr>\n",
       "    <tr>\n",
       "      <th>Ankle boot</th>\n",
       "      <td>0</td>\n",
       "      <td>0</td>\n",
       "      <td>0</td>\n",
       "      <td>0</td>\n",
       "      <td>0</td>\n",
       "      <td>12</td>\n",
       "      <td>0</td>\n",
       "      <td>51</td>\n",
       "      <td>1</td>\n",
       "      <td>936</td>\n",
       "    </tr>\n",
       "  </tbody>\n",
       "</table>\n",
       "</div>"
      ],
      "text/plain": [
       "             T-shirt/top  Trouser  Pullover  Dress  Coat  Sandal  Shirt  \\\n",
       "T-shirt/top          803        1        14     57     5       1    105   \n",
       "Trouser                1      953         7     29     4       0      5   \n",
       "Pullover              16        4       751     13   134       1     75   \n",
       "Dress                 22       10        14    879    36       1     34   \n",
       "Coat                   0        0        97     35   789       1     72   \n",
       "Sandal                 0        0         0      1     0     899      0   \n",
       "Shirt                132        1       115     45   103       0    577   \n",
       "Sneaker                0        0         0      0     0      30      0   \n",
       "Bag                    3        1        12     11     3       3     19   \n",
       "Ankle boot             0        0         0      0     0      12      0   \n",
       "\n",
       "             Sneaker  Bag  Ankle boot  \n",
       "T-shirt/top        0   13           1  \n",
       "Trouser            0    1           0  \n",
       "Pullover           0    6           0  \n",
       "Dress              0    4           0  \n",
       "Coat               0    6           0  \n",
       "Sandal            59    5          36  \n",
       "Shirt              0   27           0  \n",
       "Sneaker          935    0          35  \n",
       "Bag                5  943           0  \n",
       "Ankle boot        51    1         936  "
      ]
     },
     "metadata": {},
     "output_type": "display_data"
    }
   ],
   "source": [
    "# Generate prediction output from model using scaled testing dataset\n",
    "# Using keras predict_classes\n",
    "# predictions = FC_model.predict_classes(x_test_scaled, verbose=2)\n",
    "\n",
    "# Creating the confusion matrix using sklearn library\n",
    "conf_matrix = confusion_matrix(y_test, predictions)\n",
    "# Changing confusing matrix output using pandas library\n",
    "conf_matrix = pd.DataFrame(conf_matrix)\n",
    "conf_matrix\n",
    "# Changing index / columns names to class names of output\n",
    "conf_matrix.columns = class_names\n",
    "conf_matrix.index = class_names\n",
    "display(conf_matrix)"
   ]
  },
  {
   "cell_type": "markdown",
   "metadata": {},
   "source": [
    "# Task 2: Small Convolutional Neural Network"
   ]
  },
  {
   "cell_type": "code",
   "execution_count": 22,
   "metadata": {},
   "outputs": [
    {
     "ename": "SyntaxError",
     "evalue": "invalid syntax (<ipython-input-22-824c6e1638a2>, line 3)",
     "output_type": "error",
     "traceback": [
      "\u001b[1;36m  File \u001b[1;32m\"<ipython-input-22-824c6e1638a2>\"\u001b[1;36m, line \u001b[1;32m3\u001b[0m\n\u001b[1;33m    layers.MaxPooling2D(pool_size=2, strides=1, padding='valid'),\u001b[0m\n\u001b[1;37m         ^\u001b[0m\n\u001b[1;31mSyntaxError\u001b[0m\u001b[1;31m:\u001b[0m invalid syntax\n"
     ]
    }
   ],
   "source": [
    "Small_CNN_model = keras.Sequential([\n",
    "    layers.Conv2D(filters=40, kernel_size=5, strides=1, padding='valid', activation='relu',input_shape=(28,28))\n",
    "    layers.MaxPooling2D(pool_size=2, strides=1, padding='valid'),\n",
    "    layers.Dense(100, activation='relu', name=\"FC_Hidden_Layer_3\"),\n",
    "    layers.Dense(10, activation='softmax', name=\"FC_Output_Layer\")],\n",
    "    name='Fully_Connected_NN')"
   ]
  },
  {
   "cell_type": "code",
   "execution_count": null,
   "metadata": {},
   "outputs": [],
   "source": []
  },
  {
   "cell_type": "code",
   "execution_count": null,
   "metadata": {},
   "outputs": [],
   "source": []
  },
  {
   "cell_type": "code",
   "execution_count": null,
   "metadata": {},
   "outputs": [],
   "source": []
  }
 ],
 "metadata": {
  "kernelspec": {
   "display_name": "Python 3",
   "language": "python",
   "name": "python3"
  },
  "language_info": {
   "codemirror_mode": {
    "name": "ipython",
    "version": 3
   },
   "file_extension": ".py",
   "mimetype": "text/x-python",
   "name": "python",
   "nbconvert_exporter": "python",
   "pygments_lexer": "ipython3",
   "version": "3.7.6"
  }
 },
 "nbformat": 4,
 "nbformat_minor": 4
}
