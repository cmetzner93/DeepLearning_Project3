{
 "cells": [
  {
   "cell_type": "code",
   "execution_count": 63,
   "metadata": {},
   "outputs": [],
   "source": [
    "'''\n",
    "  Variational Autoencoder (VAE) with the Keras Functional API.\n",
    "'''\n",
    "\n",
    "import keras\n",
    "from keras.layers import Conv2D, Conv2DTranspose, Input, Flatten, Dense, Lambda, Reshape\n",
    "from keras.layers import BatchNormalization\n",
    "from keras.models import Model\n",
    "from keras.datasets import fashion_mnist\n",
    "from keras.losses import binary_crossentropy\n",
    "from keras import backend as K\n",
    "import numpy as np\n",
    "import matplotlib.pyplot as plt"
   ]
  },
  {
   "cell_type": "code",
   "execution_count": 64,
   "metadata": {},
   "outputs": [],
   "source": [
    "# Load MNIST dataset\n",
    "(input_train, target_train), (input_test, target_test) = fashion_mnist.load_data()"
   ]
  },
  {
   "cell_type": "code",
   "execution_count": 65,
   "metadata": {},
   "outputs": [],
   "source": [
    "# Data & model configuration\n",
    "img_width, img_height = input_train.shape[1], input_train.shape[2]\n",
    "batch_size = 200\n",
    "no_epochs = 50\n",
    "validation_split = 0.2\n",
    "verbosity = 1\n",
    "latent_dim = 32\n",
    "num_channels = 1"
   ]
  },
  {
   "cell_type": "code",
   "execution_count": 66,
   "metadata": {},
   "outputs": [],
   "source": [
    "# Reshape data\n",
    "input_train = input_train.reshape(input_train.shape[0], img_height, img_width, num_channels)\n",
    "input_test = input_test.reshape(input_test.shape[0], img_height, img_width, num_channels)\n",
    "input_shape = (img_height, img_width, num_channels)\n",
    "\n",
    "# Parse numbers as floats\n",
    "input_train = input_train.astype('float32')\n",
    "input_test = input_test.astype('float32')\n",
    "\n",
    "# Normalize data\n",
    "input_train = input_train / 255\n",
    "input_test = input_test / 255"
   ]
  },
  {
   "cell_type": "code",
   "execution_count": 67,
   "metadata": {},
   "outputs": [],
   "source": [
    "# # =================\n",
    "# # Encoder\n",
    "# # =================\n",
    "\n",
    "# Definition\n",
    "i       = Input(shape=input_shape, name='encoder_input')\n",
    "cx      = Conv2D(filters=8, kernel_size=3, strides=2, padding='same', activation='relu')(i)\n",
    "cx      = BatchNormalization()(cx)\n",
    "cx      = Conv2D(filters=16, kernel_size=3, strides=2, padding='same', activation='relu')(cx)\n",
    "cx      = BatchNormalization()(cx)\n",
    "x       = Flatten()(cx)\n",
    "x       = Dense(20, activation='relu')(x)\n",
    "x       = BatchNormalization()(x)\n",
    "mu      = Dense(latent_dim, name='latent_mu')(x)\n",
    "sigma   = Dense(latent_dim, name='latent_sigma')(x)"
   ]
  },
  {
   "cell_type": "code",
   "execution_count": 68,
   "metadata": {},
   "outputs": [
    {
     "name": "stdout",
     "output_type": "stream",
     "text": [
      "(None, 7, 7, 16)\n"
     ]
    }
   ],
   "source": [
    "# Get Conv2D shape for Conv2DTranspose operation in decoder\n",
    "conv_shape = K.int_shape(cx)\n",
    "print(conv_shape)"
   ]
  },
  {
   "cell_type": "code",
   "execution_count": 69,
   "metadata": {},
   "outputs": [],
   "source": [
    "# Define sampling with reparameterization trick\n",
    "def sample_z(args):\n",
    "  mu, sigma = args\n",
    "  batch     = K.shape(mu)[0]\n",
    "  dim       = K.int_shape(mu)[1]\n",
    "  eps       = K.random_normal(shape=(batch, dim))\n",
    "  return mu + K.exp(sigma / 2) * eps"
   ]
  },
  {
   "cell_type": "code",
   "execution_count": 70,
   "metadata": {},
   "outputs": [],
   "source": [
    "# Use reparameterization trick to ensure correct gradient\n",
    "z       = Lambda(sample_z, output_shape=(latent_dim, ), name='z')([mu, sigma])"
   ]
  },
  {
   "cell_type": "code",
   "execution_count": 71,
   "metadata": {},
   "outputs": [
    {
     "name": "stdout",
     "output_type": "stream",
     "text": [
      "Model: \"encoder\"\n",
      "__________________________________________________________________________________________________\n",
      "Layer (type)                    Output Shape         Param #     Connected to                     \n",
      "==================================================================================================\n",
      "encoder_input (InputLayer)      (None, 28, 28, 1)    0                                            \n",
      "__________________________________________________________________________________________________\n",
      "conv2d_9 (Conv2D)               (None, 14, 14, 8)    80          encoder_input[0][0]              \n",
      "__________________________________________________________________________________________________\n",
      "batch_normalization_22 (BatchNo (None, 14, 14, 8)    32          conv2d_9[0][0]                   \n",
      "__________________________________________________________________________________________________\n",
      "conv2d_10 (Conv2D)              (None, 7, 7, 16)     1168        batch_normalization_22[0][0]     \n",
      "__________________________________________________________________________________________________\n",
      "batch_normalization_23 (BatchNo (None, 7, 7, 16)     64          conv2d_10[0][0]                  \n",
      "__________________________________________________________________________________________________\n",
      "flatten_5 (Flatten)             (None, 784)          0           batch_normalization_23[0][0]     \n",
      "__________________________________________________________________________________________________\n",
      "dense_8 (Dense)                 (None, 20)           15700       flatten_5[0][0]                  \n",
      "__________________________________________________________________________________________________\n",
      "batch_normalization_24 (BatchNo (None, 20)           80          dense_8[0][0]                    \n",
      "__________________________________________________________________________________________________\n",
      "latent_mu (Dense)               (None, 32)           672         batch_normalization_24[0][0]     \n",
      "__________________________________________________________________________________________________\n",
      "latent_sigma (Dense)            (None, 32)           672         batch_normalization_24[0][0]     \n",
      "__________________________________________________________________________________________________\n",
      "z (Lambda)                      (None, 32)           0           latent_mu[0][0]                  \n",
      "                                                                 latent_sigma[0][0]               \n",
      "==================================================================================================\n",
      "Total params: 18,468\n",
      "Trainable params: 18,380\n",
      "Non-trainable params: 88\n",
      "__________________________________________________________________________________________________\n"
     ]
    }
   ],
   "source": [
    "# Instantiate encoder\n",
    "encoder = Model(i, [mu, sigma, z], name='encoder')\n",
    "encoder.summary()"
   ]
  },
  {
   "cell_type": "code",
   "execution_count": 72,
   "metadata": {},
   "outputs": [],
   "source": [
    "# =================\n",
    "# Decoder\n",
    "# =================\n",
    "\n",
    "# Definition\n",
    "d_i   = Input(shape=(latent_dim, ), name='decoder_input')\n",
    "x     = Dense(conv_shape[1] * conv_shape[2] * conv_shape[3], activation='relu')(d_i)\n",
    "x     = BatchNormalization()(x)\n",
    "x     = Reshape((conv_shape[1], conv_shape[2], conv_shape[3]))(x)\n",
    "cx    = Conv2DTranspose(filters=16, kernel_size=3, strides=2, padding='same', activation='relu')(x)\n",
    "cx    = BatchNormalization()(cx)\n",
    "cx    = Conv2DTranspose(filters=8, kernel_size=3, strides=2, padding='same',  activation='relu')(cx)\n",
    "cx    = BatchNormalization()(cx)\n",
    "o     = Conv2DTranspose(filters=num_channels, kernel_size=3, activation='sigmoid', padding='same', name='decoder_output')(cx)"
   ]
  },
  {
   "cell_type": "code",
   "execution_count": 73,
   "metadata": {},
   "outputs": [
    {
     "name": "stdout",
     "output_type": "stream",
     "text": [
      "Model: \"decoder\"\n",
      "_________________________________________________________________\n",
      "Layer (type)                 Output Shape              Param #   \n",
      "=================================================================\n",
      "decoder_input (InputLayer)   (None, 32)                0         \n",
      "_________________________________________________________________\n",
      "dense_9 (Dense)              (None, 784)               25872     \n",
      "_________________________________________________________________\n",
      "batch_normalization_25 (Batc (None, 784)               3136      \n",
      "_________________________________________________________________\n",
      "reshape_4 (Reshape)          (None, 7, 7, 16)          0         \n",
      "_________________________________________________________________\n",
      "conv2d_transpose_7 (Conv2DTr (None, 14, 14, 16)        2320      \n",
      "_________________________________________________________________\n",
      "batch_normalization_26 (Batc (None, 14, 14, 16)        64        \n",
      "_________________________________________________________________\n",
      "conv2d_transpose_8 (Conv2DTr (None, 28, 28, 8)         1160      \n",
      "_________________________________________________________________\n",
      "batch_normalization_27 (Batc (None, 28, 28, 8)         32        \n",
      "_________________________________________________________________\n",
      "decoder_output (Conv2DTransp (None, 28, 28, 1)         73        \n",
      "=================================================================\n",
      "Total params: 32,657\n",
      "Trainable params: 31,041\n",
      "Non-trainable params: 1,616\n",
      "_________________________________________________________________\n"
     ]
    }
   ],
   "source": [
    "# Instantiate decoder\n",
    "decoder = Model(d_i, o, name='decoder')\n",
    "decoder.summary()"
   ]
  },
  {
   "cell_type": "code",
   "execution_count": 74,
   "metadata": {},
   "outputs": [
    {
     "name": "stdout",
     "output_type": "stream",
     "text": [
      "Model: \"vae\"\n",
      "_________________________________________________________________\n",
      "Layer (type)                 Output Shape              Param #   \n",
      "=================================================================\n",
      "encoder_input (InputLayer)   (None, 28, 28, 1)         0         \n",
      "_________________________________________________________________\n",
      "encoder (Model)              [(None, 32), (None, 32),  18468     \n",
      "_________________________________________________________________\n",
      "decoder (Model)              (None, 28, 28, 1)         32657     \n",
      "=================================================================\n",
      "Total params: 51,125\n",
      "Trainable params: 49,421\n",
      "Non-trainable params: 1,704\n",
      "_________________________________________________________________\n"
     ]
    }
   ],
   "source": [
    "# =================\n",
    "# VAE as a whole\n",
    "# =================\n",
    "\n",
    "# Instantiate VAE\n",
    "vae_outputs = decoder(encoder(i)[2])\n",
    "vae         = Model(i, vae_outputs, name='vae')\n",
    "vae.summary()"
   ]
  },
  {
   "cell_type": "code",
   "execution_count": null,
   "metadata": {},
   "outputs": [],
   "source": [
    "# set loss \n",
    "reconstruction_loss = mse(K.flatten(inputs), K.flatten(outputs))\n",
    "reconstruction_loss *= image_size * image_size\n",
    "kl_loss = 1 + z_log_var - K.square(z_mean) - K.exp(z_log_var)\n",
    "kl_loss = K.sum(kl_loss, axis=-1)\n",
    "kl_loss *= -0.5\n",
    "vae_loss = K.mean(reconstruction_loss + kl_loss)\n",
    "vae.add_loss(vae_loss)"
   ]
  },
  {
   "cell_type": "code",
   "execution_count": 60,
   "metadata": {},
   "outputs": [],
   "source": [
    "# Define loss\n",
    "def kl_reconstruction_loss(true, pred):\n",
    "  # Reconstruction loss\n",
    "  reconstruction_loss = binary_crossentropy(K.flatten(true), K.flatten(pred)) * img_width * img_height\n",
    "  # KL divergence loss\n",
    "  kl_loss = 1 + sigma - K.square(mu) - K.exp(sigma)\n",
    "  kl_loss = K.sum(kl_loss, axis=-1)\n",
    "  kl_loss *= -0.5\n",
    "  # Total loss = 50% rec + 50% KL divergence loss\n",
    "  return K.mean(reconstruction_loss + kl_loss)"
   ]
  },
  {
   "cell_type": "code",
   "execution_count": 75,
   "metadata": {},
   "outputs": [
    {
     "name": "stdout",
     "output_type": "stream",
     "text": [
      "Train on 48000 samples, validate on 12000 samples\n",
      "Epoch 1/50\n",
      "48000/48000 [==============================] - 21s 431us/step - loss: 3424.8876 - val_loss: 3485.4847\n",
      "Epoch 2/50\n",
      "48000/48000 [==============================] - 20s 411us/step - loss: 3452.6871 - val_loss: 3485.3539\n",
      "Epoch 3/50\n",
      "48000/48000 [==============================] - 18s 379us/step - loss: 3452.6482 - val_loss: 3485.3301\n",
      "Epoch 4/50\n",
      "48000/48000 [==============================] - 18s 379us/step - loss: 3452.6328 - val_loss: 3485.3173\n",
      "Epoch 5/50\n",
      "48000/48000 [==============================] - 18s 379us/step - loss: 3452.6244 - val_loss: 3485.3099\n",
      "Epoch 6/50\n",
      "48000/48000 [==============================] - 18s 378us/step - loss: 3452.6193 - val_loss: 3485.3054\n",
      "Epoch 7/50\n",
      "48000/48000 [==============================] - 18s 379us/step - loss: 3452.6155 - val_loss: 3485.3019\n",
      "Epoch 8/50\n",
      "48000/48000 [==============================] - 18s 383us/step - loss: 3452.6129 - val_loss: 3485.2996\n",
      "Epoch 9/50\n",
      "48000/48000 [==============================] - 18s 385us/step - loss: 3452.6110 - val_loss: 3485.2978\n",
      "Epoch 10/50\n",
      "48000/48000 [==============================] - 19s 386us/step - loss: 3452.6094 - val_loss: 3485.2964\n",
      "Epoch 11/50\n",
      "48000/48000 [==============================] - 19s 386us/step - loss: 3452.6083 - val_loss: 3485.2952\n",
      "Epoch 12/50\n",
      "48000/48000 [==============================] - 19s 385us/step - loss: 3452.6072 - val_loss: 3485.2942\n",
      "Epoch 13/50\n",
      "48000/48000 [==============================] - 19s 388us/step - loss: 3452.6064 - val_loss: 3485.2933\n",
      "Epoch 14/50\n",
      "48000/48000 [==============================] - 19s 388us/step - loss: 3452.6058 - val_loss: 3485.2926\n",
      "Epoch 15/50\n",
      "48000/48000 [==============================] - 18s 383us/step - loss: 3452.6051 - val_loss: 3485.2922\n",
      "Epoch 16/50\n",
      "48000/48000 [==============================] - 18s 381us/step - loss: 3452.6045 - val_loss: 3485.2916\n",
      "Epoch 17/50\n",
      "48000/48000 [==============================] - 19s 388us/step - loss: 3452.6041 - val_loss: 3485.2912\n",
      "Epoch 18/50\n",
      "48000/48000 [==============================] - 18s 377us/step - loss: 3452.6036 - val_loss: 3485.2909\n",
      "Epoch 19/50\n",
      "48000/48000 [==============================] - 18s 375us/step - loss: 3452.6033 - val_loss: 3485.2904\n",
      "Epoch 20/50\n",
      "48000/48000 [==============================] - 18s 375us/step - loss: 3452.6030 - val_loss: 3485.2900\n",
      "Epoch 21/50\n",
      "48000/48000 [==============================] - 18s 375us/step - loss: 3452.6027 - val_loss: 3485.2897\n",
      "Epoch 22/50\n",
      "48000/48000 [==============================] - 18s 375us/step - loss: 3452.6024 - val_loss: 3485.2895\n",
      "Epoch 23/50\n",
      "48000/48000 [==============================] - 18s 375us/step - loss: 3452.6021 - val_loss: 3485.2893\n",
      "Epoch 24/50\n",
      "48000/48000 [==============================] - 18s 374us/step - loss: 3452.6020 - val_loss: 3485.2892\n",
      "Epoch 25/50\n",
      "48000/48000 [==============================] - 18s 376us/step - loss: 3452.6018 - val_loss: 3485.2890\n",
      "Epoch 26/50\n",
      "48000/48000 [==============================] - 18s 375us/step - loss: 3452.6015 - val_loss: 3485.2888\n",
      "Epoch 27/50\n",
      "48000/48000 [==============================] - 18s 373us/step - loss: 3452.6014 - val_loss: 3485.2886\n",
      "Epoch 28/50\n",
      "48000/48000 [==============================] - 18s 376us/step - loss: 3452.6012 - val_loss: 3485.2884\n",
      "Epoch 29/50\n",
      "48000/48000 [==============================] - 18s 377us/step - loss: 3452.6011 - val_loss: 3485.2881\n",
      "Epoch 30/50\n",
      "48000/48000 [==============================] - 18s 377us/step - loss: 3452.6009 - val_loss: 3485.2880\n",
      "Epoch 31/50\n",
      "48000/48000 [==============================] - 18s 377us/step - loss: 3452.6008 - val_loss: 3485.2880\n",
      "Epoch 32/50\n",
      "48000/48000 [==============================] - 18s 378us/step - loss: 3452.6007 - val_loss: 3485.2879\n",
      "Epoch 33/50\n",
      "48000/48000 [==============================] - 18s 378us/step - loss: 3452.6006 - val_loss: 3485.2878\n",
      "Epoch 34/50\n",
      "48000/48000 [==============================] - 18s 377us/step - loss: 3452.6005 - val_loss: 3485.2877\n",
      "Epoch 35/50\n",
      "48000/48000 [==============================] - 18s 377us/step - loss: 3452.6004 - val_loss: 3485.2876\n",
      "Epoch 36/50\n",
      "48000/48000 [==============================] - 18s 377us/step - loss: 3452.6003 - val_loss: 3485.2875\n",
      "Epoch 37/50\n",
      "48000/48000 [==============================] - 18s 377us/step - loss: 3452.6002 - val_loss: 3485.2875\n",
      "Epoch 38/50\n",
      "48000/48000 [==============================] - 18s 378us/step - loss: 3452.6001 - val_loss: 3485.2874\n",
      "Epoch 39/50\n",
      "48000/48000 [==============================] - 19s 391us/step - loss: 3452.6000 - val_loss: 3485.2873\n",
      "Epoch 40/50\n",
      "48000/48000 [==============================] - 19s 389us/step - loss: 3452.6000 - val_loss: 3485.2873\n",
      "Epoch 41/50\n",
      "48000/48000 [==============================] - 19s 392us/step - loss: 3452.6000 - val_loss: 3485.2872\n",
      "Epoch 42/50\n",
      "48000/48000 [==============================] - 18s 380us/step - loss: 3452.5999 - val_loss: 3485.2871\n",
      "Epoch 43/50\n",
      "48000/48000 [==============================] - 18s 380us/step - loss: 3452.5998 - val_loss: 3485.2871\n",
      "Epoch 44/50\n",
      "48000/48000 [==============================] - 18s 379us/step - loss: 3452.5997 - val_loss: 3485.2870\n",
      "Epoch 45/50\n",
      "48000/48000 [==============================] - 18s 380us/step - loss: 3452.5997 - val_loss: 3485.2869\n",
      "Epoch 46/50\n",
      "48000/48000 [==============================] - 18s 380us/step - loss: 3452.5997 - val_loss: 3485.2868\n",
      "Epoch 47/50\n",
      "48000/48000 [==============================] - 18s 379us/step - loss: 3452.5996 - val_loss: 3485.2867\n",
      "Epoch 48/50\n",
      "48000/48000 [==============================] - 18s 380us/step - loss: 3452.5995 - val_loss: 3485.2867\n",
      "Epoch 49/50\n",
      "48000/48000 [==============================] - 18s 379us/step - loss: 3452.5995 - val_loss: 3485.2866\n",
      "Epoch 50/50\n",
      "48000/48000 [==============================] - 18s 378us/step - loss: 3452.5994 - val_loss: 3485.2866\n"
     ]
    },
    {
     "data": {
      "text/plain": [
       "<keras.callbacks.callbacks.History at 0x642d80350>"
      ]
     },
     "execution_count": 75,
     "metadata": {},
     "output_type": "execute_result"
    }
   ],
   "source": [
    "# Compile VAE\n",
    "vae.compile(optimizer='sgd', loss=kl_reconstruction_loss)\n",
    "\n",
    "# Train autoencoder\n",
    "vae.fit(input_train, input_train, epochs = no_epochs, batch_size = batch_size, validation_split = validation_split)"
   ]
  },
  {
   "cell_type": "code",
   "execution_count": 77,
   "metadata": {},
   "outputs": [],
   "source": [
    "# =============================================\n",
    "# Take a sample for visualization purposes\n",
    "# =============================================\n",
    "input_sample = input_test[:1]\n",
    "reconstruction = vae.predict([input_sample])"
   ]
  },
  {
   "cell_type": "code",
   "execution_count": 78,
   "metadata": {},
   "outputs": [
    {
     "data": {
      "image/png": "[encoded data removed]",
      "text/plain": [
       "<Figure size 432x252 with 2 Axes>"
      ]
     },
     "metadata": {
      "needs_background": "light"
     },
     "output_type": "display_data"
    }
   ],
   "source": [
    "# =============================================\n",
    "# Visualize input-->reconstruction\n",
    "# =============================================\n",
    "fig, axes = plt.subplots(1, 2)\n",
    "plt.gray\n",
    "fig.set_size_inches(6, 3.5)\n",
    "input_sample_reshaped = input_sample.reshape((28, 28))\n",
    "reconsstruction_reshaped = reconstruction.reshape((28, 28))\n",
    "axes[0].imshow(input_sample_reshaped) \n",
    "axes[0].set_title('Original image')\n",
    "axes[1].imshow(reconsstruction_reshaped)\n",
    "axes[1].set_title('Reconstruction')\n",
    "plt.show()"
   ]
  },
  {
   "cell_type": "code",
   "execution_count": 45,
   "metadata": {},
   "outputs": [
    {
     "data": {
      "text/plain": [
       "<matplotlib.image.AxesImage at 0x63eb29550>"
      ]
     },
     "execution_count": 45,
     "metadata": {},
     "output_type": "execute_result"
    },
    {
     "data": {
      "image/png": "[encoded data removed]",
      "text/plain": [
       "<Figure size 432x288 with 1 Axes>"
      ]
     },
     "metadata": {
      "needs_background": "light"
     },
     "output_type": "display_data"
    }
   ],
   "source": [
    "plt.figure()\n",
    "plt.gray()\n",
    "plt.imshow(reconsstruction_reshaped)"
   ]
  },
  {
   "cell_type": "code",
   "execution_count": 79,
   "metadata": {},
   "outputs": [
    {
     "ename": "TypeError",
     "evalue": "unsupported operand type(s) for -: 'builtin_function_or_method' and 'builtin_function_or_method'",
     "output_type": "error",
     "traceback": [
      "\u001b[0;31m---------------------------------------------------------------------------\u001b[0m",
      "\u001b[0;31mTypeError\u001b[0m                                 Traceback (most recent call last)",
      "\u001b[0;32m<ipython-input-79-a4e2160cc438>\u001b[0m in \u001b[0;36m<module>\u001b[0;34m\u001b[0m\n\u001b[0;32m----> 1\u001b[0;31m \u001b[0mlatent\u001b[0m \u001b[0;34m=\u001b[0m \u001b[0mnp\u001b[0m\u001b[0;34m.\u001b[0m\u001b[0mrandom\u001b[0m\u001b[0;34m.\u001b[0m\u001b[0mrand\u001b[0m\u001b[0;34m(\u001b[0m\u001b[0;36m32\u001b[0m\u001b[0;34m)\u001b[0m\u001b[0;34m*\u001b[0m\u001b[0;34m(\u001b[0m\u001b[0mmax\u001b[0m \u001b[0;34m-\u001b[0m \u001b[0mmin\u001b[0m\u001b[0;34m)\u001b[0m \u001b[0;34m+\u001b[0m \u001b[0mmin\u001b[0m\u001b[0;34m\u001b[0m\u001b[0;34m\u001b[0m\u001b[0m\n\u001b[0m\u001b[1;32m      2\u001b[0m \u001b[0mdecoded_img\u001b[0m \u001b[0;34m=\u001b[0m \u001b[0mdecoder\u001b[0m\u001b[0;34m.\u001b[0m\u001b[0mpredict\u001b[0m\u001b[0;34m(\u001b[0m\u001b[0mnp\u001b[0m\u001b[0;34m.\u001b[0m\u001b[0marray\u001b[0m\u001b[0;34m(\u001b[0m\u001b[0;34m[\u001b[0m\u001b[0mlatent\u001b[0m\u001b[0;34m]\u001b[0m\u001b[0;34m)\u001b[0m\u001b[0;34m)\u001b[0m\u001b[0;34m\u001b[0m\u001b[0;34m\u001b[0m\u001b[0m\n\u001b[1;32m      3\u001b[0m \u001b[0mdecoded_img\u001b[0m \u001b[0;34m=\u001b[0m \u001b[0mdecoded_img\u001b[0m\u001b[0;34m[\u001b[0m\u001b[0;36m0\u001b[0m\u001b[0;34m]\u001b[0m\u001b[0;34m.\u001b[0m\u001b[0mreshape\u001b[0m\u001b[0;34m(\u001b[0m\u001b[0;36m28\u001b[0m\u001b[0;34m,\u001b[0m \u001b[0;36m28\u001b[0m\u001b[0;34m)\u001b[0m\u001b[0;34m\u001b[0m\u001b[0;34m\u001b[0m\u001b[0m\n\u001b[1;32m      4\u001b[0m \u001b[0mprint\u001b[0m\u001b[0;34m(\u001b[0m\u001b[0mdecoded_img\u001b[0m\u001b[0;34m.\u001b[0m\u001b[0mshape\u001b[0m\u001b[0;34m)\u001b[0m\u001b[0;34m\u001b[0m\u001b[0;34m\u001b[0m\u001b[0m\n",
      "\u001b[0;31mTypeError\u001b[0m: unsupported operand type(s) for -: 'builtin_function_or_method' and 'builtin_function_or_method'"
     ]
    }
   ],
   "source": [
    "latent = np.random.rand(32)*(max - min) + min\n",
    "decoded_img = decoder.predict(np.array([latent]))\n",
    "decoded_img = decoded_img[0].reshape(28, 28)\n",
    "print(decoded_img.shape)"
   ]
  },
  {
   "cell_type": "code",
   "execution_count": null,
   "metadata": {},
   "outputs": [],
   "source": []
  }
 ],
 "metadata": {
  "kernelspec": {
   "display_name": "Python 3",
   "language": "python",
   "name": "python3"
  },
  "language_info": {
   "codemirror_mode": {
    "name": "ipython",
    "version": 3
   },
   "file_extension": ".py",
   "mimetype": "text/x-python",
   "name": "python",
   "nbconvert_exporter": "python",
   "pygments_lexer": "ipython3",
   "version": "3.7.6"
  }
 },
 "nbformat": 4,
 "nbformat_minor": 4
}
