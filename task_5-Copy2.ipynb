{
 "cells": [
  {
   "cell_type": "code",
   "execution_count": 1,
   "metadata": {},
   "outputs": [
    {
     "name": "stderr",
     "output_type": "stream",
     "text": [
      "Using TensorFlow backend.\n"
     ]
    }
   ],
   "source": [
    "from __future__ import absolute_import\n",
    "from __future__ import division\n",
    "from __future__ import print_function\n",
    "\n",
    "import tensorflow as tf\n",
    "from tensorflow import keras\n",
    "from keras.layers import Dense, Input\n",
    "from keras.layers import Conv2D, Flatten, Lambda\n",
    "from keras.layers import Reshape, Conv2DTranspose\n",
    "from keras.models import Model\n",
    "from keras.datasets import mnist\n",
    "from keras.losses import mse, binary_crossentropy\n",
    "from keras.utils import plot_model\n",
    "from keras import backend as K\n",
    "from keras.datasets import fashion_mnist\n",
    "from keras.utils import to_categorical\n",
    "\n",
    "import numpy as np\n",
    "import matplotlib.pyplot as plt\n",
    "import argparse\n",
    "import os\n",
    "import time"
   ]
  },
  {
   "cell_type": "code",
   "execution_count": 2,
   "metadata": {},
   "outputs": [],
   "source": [
    "# reparameterization trick\n",
    "# instead of sampling from Q(z|X), sample eps = N(0,I)\n",
    "# then z = z_mean + sqrt(var)*eps\n",
    "def sampling(args):\n",
    "    \"\"\"Reparameterization trick by sampling for an isotropic unit Gaussian.\n",
    "\n",
    "    # Arguments\n",
    "        args (tensor): mean and log of variance of Q(z|X)\n",
    "\n",
    "    # Returns\n",
    "        z (tensor): sampled latent vector\n",
    "    \"\"\"\n",
    "\n",
    "    z_mean, z_log_var = args\n",
    "    batch = K.shape(z_mean)[0]\n",
    "    dim = K.int_shape(z_mean)[1]\n",
    "    # by default, random_normal has mean=0 and std=1.0\n",
    "    epsilon = K.random_normal(shape=(batch, dim))\n",
    "    return z_mean + K.exp(0.5 * z_log_var) * epsilon"
   ]
  },
  {
   "cell_type": "code",
   "execution_count": 3,
   "metadata": {},
   "outputs": [],
   "source": [
    "# Init a normalization funciton\n",
    "def normalization(matrix, max_val, min_val):\n",
    "    new_matrix = np.array([((image - min_val) / (max_val - min_val)) for image in matrix])\n",
    "    return new_matrix"
   ]
  },
  {
   "cell_type": "code",
   "execution_count": 4,
   "metadata": {},
   "outputs": [],
   "source": [
    "# from https://stackoverflow.com/questions/43178668/record-the-computation-time-for-each-epoch-in-keras-during-model-fit\n",
    "# Class which enables to store the execution time per epoch\n",
    "class TimeHistory(keras.callbacks.Callback):\n",
    "    def on_train_begin(self, logs={}):\n",
    "        self.times = []\n",
    "\n",
    "    def on_epoch_begin(self, batch, logs={}):\n",
    "        self.epoch_time_start = time.time()\n",
    "\n",
    "    def on_epoch_end(self, batch, logs={}):\n",
    "        self.times.append(time.time() - self.epoch_time_start)\n",
    "\n",
    "\n",
    "def acc_time(time_stamps):\n",
    "    # accumulate all single time values\n",
    "    accumulated_time = []\n",
    "    acc_time = 0\n",
    "    for time in time_stamps:\n",
    "        acc_time += time\n",
    "        accumulated_time.append(acc_time)\n",
    "    # print(accumulated_time)\n",
    "    return accumulated_time\n",
    "\n",
    "\n",
    "def run_model(model, x_train, x_test):\n",
    "    # compile the given model architecture\n",
    "    model.compile(optimizer='sgd')\n",
    "\n",
    "    # call class for taking time stamps for each epoch\n",
    "    time_callback_train = TimeHistory()\n",
    "    \n",
    "\n",
    "    # fit the model (train the network) and save meplt.savefig('vae_loss_epoch.png')plt.savefig('vae_loss_epoch.png')trics in variable history\n",
    "    history = model.fit(x_train, epochs=50, batch_size=200, validation_data=(x_test, None), callbacks=[time_callback_train])\n",
    "\n",
    "    # store time stamps per epoch in variable\n",
    "    times_train = time_callback_train.times\n",
    "    print()\n",
    "    print(\"Reported times per epoch: \\n \", times_train)\n",
    "\n",
    "    accumulated_time = acc_time(times_train)\n",
    "\n",
    "    # Evaluate model using testing dataset\n",
    "    test_start_time = time.time()\n",
    "    test_loss = model.evaluate(x_test, batch_size=1000, verbose=2)\n",
    "    print()\n",
    "    print()\n",
    "    print('Test Loss: {}'.format(test_loss))\n",
    "    test_end_time = time.time() - test_start_time\n",
    "    print('Time for Testing Data: ', test_end_time)\n",
    "\n",
    "    # Plot training loss values vs epochs\n",
    "    plt.plot(history.history['loss'])\n",
    "    plt.title('Model Loss vs. Epochs')\n",
    "    plt.ylabel('Loss')\n",
    "    plt.xlabel('Epoch')\n",
    "    plt.legend(['Train', 'Test'], loc='upper left')\n",
    "    plt.show()\n",
    "\n",
    "    # Plot training time vs epochs\n",
    "    plt.plot(accumulated_time, history.history['loss'])\n",
    "    plt.title('Model Loss vs. Time')\n",
    "    plt.ylabel('Loss')\n",
    "    plt.xlabel('Time in seconds')\n",
    "    plt.legend(['Train'], loc='upper left')\n",
    "    plt.show()\n",
    "\n",
    "    return history"
   ]
  },
  {
   "cell_type": "code",
   "execution_count": 5,
   "metadata": {},
   "outputs": [],
   "source": [
    "# MNIST dataset\n",
    "(x_train, y_train), (x_test, y_test) = fashion_mnist.load_data()\n",
    "y_train_cat = to_categorical(y_train)\n",
    "y_test_cat = to_categorical(y_test)\n",
    "\n",
    "class_names = ['T-shirt/top', 'Trouser', 'Pullover', 'Dress', 'Coat',\n",
    "               'Sandal', 'Shirt', 'Sneaker', 'Bag', 'Ankle boot']\n",
    "\n",
    "# Get min, and max value from training data set using all 60,000 samples\n",
    "max_val = x_train.max()\n",
    "# print(\"Maximal value: \", max_val)\n",
    "min_val = x_train.min()\n",
    "\n",
    "# Normalize training (x_train) and testing (x_test) data based on maximal/minimal values of the training data\n",
    "x_train_scaled = normalization(x_train, max_val, min_val)\n",
    "x_test_scaled = normalization(x_test, max_val, min_val)\n",
    "\n",
    "# Reshape data \n",
    "image_size = x_train_scaled.shape[1]\n",
    "reshaped_x_train_scaled = np.reshape(x_train_scaled, [-1, image_size, image_size, 1])\n",
    "reshaped_x_test_scaled = np.reshape(x_test_scaled, [-1, image_size, image_size, 1])"
   ]
  },
  {
   "cell_type": "code",
   "execution_count": 6,
   "metadata": {},
   "outputs": [
    {
     "name": "stdout",
     "output_type": "stream",
     "text": [
      "28\n",
      "(60000, 28, 28, 1) (10000, 28, 28, 1)\n"
     ]
    }
   ],
   "source": [
    "print(image_size)\n",
    "print(reshaped_x_train_scaled.shape, reshaped_x_test_scaled.shape)"
   ]
  },
  {
   "cell_type": "code",
   "execution_count": 9,
   "metadata": {},
   "outputs": [],
   "source": [
    "# network parameters\n",
    "input_shape = (image_size, image_size, 1)\n",
    "kernel_size = 3\n",
    "filters = 16 \n",
    "latent_dim = 32"
   ]
  },
  {
   "cell_type": "code",
   "execution_count": 10,
   "metadata": {},
   "outputs": [
    {
     "name": "stdout",
     "output_type": "stream",
     "text": [
      "(None, 7, 7, 64)\n",
      "Model: \"encoder\"\n",
      "__________________________________________________________________________________________________\n",
      "Layer (type)                    Output Shape         Param #     Connected to                     \n",
      "==================================================================================================\n",
      "encoder_input (InputLayer)      (None, 28, 28, 1)    0                                            \n",
      "__________________________________________________________________________________________________\n",
      "conv2d_3 (Conv2D)               (None, 14, 14, 32)   320         encoder_input[0][0]              \n",
      "__________________________________________________________________________________________________\n",
      "conv2d_4 (Conv2D)               (None, 7, 7, 64)     18496       conv2d_3[0][0]                   \n",
      "__________________________________________________________________________________________________\n",
      "flatten_2 (Flatten)             (None, 3136)         0           conv2d_4[0][0]                   \n",
      "__________________________________________________________________________________________________\n",
      "dense_3 (Dense)                 (None, 16)           50192       flatten_2[0][0]                  \n",
      "__________________________________________________________________________________________________\n",
      "z_mean (Dense)                  (None, 32)           544         dense_3[0][0]                    \n",
      "__________________________________________________________________________________________________\n",
      "z_log_var (Dense)               (None, 32)           544         dense_3[0][0]                    \n",
      "__________________________________________________________________________________________________\n",
      "z (Lambda)                      (None, 32)           0           z_mean[0][0]                     \n",
      "                                                                 z_log_var[0][0]                  \n",
      "==================================================================================================\n",
      "Total params: 70,096\n",
      "Trainable params: 70,096\n",
      "Non-trainable params: 0\n",
      "__________________________________________________________________________________________________\n"
     ]
    }
   ],
   "source": [
    "# VAE model = encoder + decoder\n",
    "# build encoder model\n",
    "inputs = Input(shape=input_shape, name='encoder_input')\n",
    "x = inputs\n",
    "for i in range(2):\n",
    "    filters *= 2\n",
    "    x = Conv2D(filters=filters,\n",
    "               kernel_size=kernel_size,\n",
    "               activation='relu',\n",
    "               strides=2,\n",
    "               padding='same')(x)\n",
    "    \n",
    "# shape info needed to build decoder model\n",
    "shape = K.int_shape(x)\n",
    "print(shape)\n",
    "\n",
    "# generate latent vector Q(z|X)\n",
    "x = Flatten()(x)\n",
    "x = Dense(16, activation='relu')(x)\n",
    "z_mean = Dense(latent_dim, name='z_mean')(x)\n",
    "z_log_var = Dense(latent_dim, name='z_log_var')(x)\n",
    "\n",
    "# use reparameterization trick to push the sampling out as input\n",
    "# note that \"output_shape\" isn't necessary with the TensorFlow backend\n",
    "z = Lambda(sampling, output_shape=(latent_dim,), name='z')([z_mean, z_log_var])\n",
    "\n",
    "# instantiate encoder model\n",
    "encoder = Model(inputs, [z_mean, z_log_var, z], name='encoder')\n",
    "encoder.summary()"
   ]
  },
  {
   "cell_type": "code",
   "execution_count": 11,
   "metadata": {},
   "outputs": [
    {
     "name": "stdout",
     "output_type": "stream",
     "text": [
      "Model: \"decoder\"\n",
      "_________________________________________________________________\n",
      "Layer (type)                 Output Shape              Param #   \n",
      "=================================================================\n",
      "z_sampling (InputLayer)      (None, 32)                0         \n",
      "_________________________________________________________________\n",
      "dense_4 (Dense)              (None, 3136)              103488    \n",
      "_________________________________________________________________\n",
      "reshape_2 (Reshape)          (None, 7, 7, 64)          0         \n",
      "_________________________________________________________________\n",
      "conv2d_transpose_3 (Conv2DTr (None, 14, 14, 64)        36928     \n",
      "_________________________________________________________________\n",
      "conv2d_transpose_4 (Conv2DTr (None, 28, 28, 32)        18464     \n",
      "_________________________________________________________________\n",
      "decoder_output (Conv2DTransp (None, 28, 28, 1)         289       \n",
      "=================================================================\n",
      "Total params: 159,169\n",
      "Trainable params: 159,169\n",
      "Non-trainable params: 0\n",
      "_________________________________________________________________\n"
     ]
    }
   ],
   "source": [
    "# build decoder model\n",
    "latent_inputs = Input(shape=(latent_dim,), name='z_sampling')\n",
    "x = Dense(shape[1] * shape[2] * shape[3], activation='relu')(latent_inputs)\n",
    "x = Reshape((shape[1], shape[2], shape[3]))(x)\n",
    "\n",
    "for i in range(2):\n",
    "    x = Conv2DTranspose(filters=filters,\n",
    "                        kernel_size=kernel_size,\n",
    "                        activation='relu',\n",
    "                        strides=2,\n",
    "                        padding='same')(x)\n",
    "    filters //= 2\n",
    "\n",
    "outputs = Conv2DTranspose(filters=1,\n",
    "                          kernel_size=kernel_size,\n",
    "                          activation='sigmoid',\n",
    "                          padding='same',\n",
    "                          name='decoder_output')(x)\n",
    "\n",
    "# instantiate decoder model\n",
    "decoder = Model(latent_inputs, outputs, name='decoder')\n",
    "decoder.summary()"
   ]
  },
  {
   "cell_type": "code",
   "execution_count": 10,
   "metadata": {},
   "outputs": [
    {
     "name": "stdout",
     "output_type": "stream",
     "text": [
      "Model: \"vae\"\n",
      "_________________________________________________________________\n",
      "Layer (type)                 Output Shape              Param #   \n",
      "=================================================================\n",
      "encoder_input (InputLayer)   (None, 28, 28, 1)         0         \n",
      "_________________________________________________________________\n",
      "encoder (Model)              [(None, 32), (None, 32),  70096     \n",
      "_________________________________________________________________\n",
      "decoder (Model)              (None, 28, 28, 1)         159169    \n",
      "=================================================================\n",
      "Total params: 229,265\n",
      "Trainable params: 229,265\n",
      "Non-trainable params: 0\n",
      "_________________________________________________________________\n"
     ]
    }
   ],
   "source": [
    "# instantiate VAE model\n",
    "outputs = decoder(encoder(inputs)[2])\n",
    "vae = Model(inputs, outputs, name='vae')\n",
    "vae.summary()"
   ]
  },
  {
   "cell_type": "code",
   "execution_count": 11,
   "metadata": {},
   "outputs": [],
   "source": [
    "# set loss \n",
    "reconstruction_loss = mse(K.flatten(inputs), K.flatten(outputs))\n",
    "reconstruction_loss *= image_size * image_size\n",
    "kl_loss = 1 + z_log_var - K.square(z_mean) - K.exp(z_log_var)\n",
    "kl_loss = K.sum(kl_loss, axis=-1)\n",
    "kl_loss *= -0.5\n",
    "vae_loss = K.mean(reconstruction_loss + kl_loss)\n",
    "vae.add_loss(vae_loss)"
   ]
  },
  {
   "cell_type": "code",
   "execution_count": 12,
   "metadata": {
    "collapsed": true
   },
   "outputs": [
    {
     "name": "stderr",
     "output_type": "stream",
     "text": [
      "/Users/annanau/anaconda3/envs/tf2/lib/python3.7/site-packages/keras/engine/training_utils.py:819: UserWarning: Output decoder missing from loss dictionary. We assume this was done on purpose. The fit and evaluate APIs will not be expecting any data to be passed to decoder.\n",
      "  'be expecting any data to be passed to {0}.'.format(name))\n"
     ]
    },
    {
     "name": "stdout",
     "output_type": "stream",
     "text": [
      "Train on 60000 samples, validate on 10000 samples\n",
      "Epoch 1/50\n",
      "60000/60000 [==============================] - 36s 608us/step - loss: 97.4079 - val_loss: 96.9201\n",
      "Epoch 2/50\n",
      "60000/60000 [==============================] - 37s 617us/step - loss: 97.8429 - val_loss: 97.4088\n",
      "Epoch 3/50\n",
      "60000/60000 [==============================] - 38s 630us/step - loss: 97.7355 - val_loss: 97.5013\n",
      "Epoch 4/50\n",
      "60000/60000 [==============================] - 37s 615us/step - loss: 97.7091 - val_loss: 97.3875\n",
      "Epoch 5/50\n",
      "60000/60000 [==============================] - 36s 593us/step - loss: 84.3670 - val_loss: 76.8695\n",
      "Epoch 6/50\n",
      "60000/60000 [==============================] - 35s 581us/step - loss: 68.0420 - val_loss: 56.0095\n",
      "Epoch 7/50\n",
      "60000/60000 [==============================] - 35s 581us/step - loss: 53.8106 - val_loss: 46.6526\n",
      "Epoch 8/50\n",
      "60000/60000 [==============================] - 35s 588us/step - loss: 42.8568 - val_loss: 39.1585\n",
      "Epoch 9/50\n",
      "60000/60000 [==============================] - 36s 600us/step - loss: 37.4935 - val_loss: 36.2296\n",
      "Epoch 10/50\n",
      "60000/60000 [==============================] - 36s 598us/step - loss: 35.0934 - val_loss: 33.8873\n",
      "Epoch 11/50\n",
      "60000/60000 [==============================] - 35s 585us/step - loss: 33.7106 - val_loss: 33.6870\n",
      "Epoch 12/50\n",
      "60000/60000 [==============================] - 35s 582us/step - loss: 32.3426 - val_loss: 33.9396\n",
      "Epoch 13/50\n",
      "60000/60000 [==============================] - 37s 611us/step - loss: 31.6589 - val_loss: 32.2532\n",
      "Epoch 14/50\n",
      "60000/60000 [==============================] - 35s 585us/step - loss: 30.7992 - val_loss: 31.7483\n",
      "Epoch 15/50\n",
      "60000/60000 [==============================] - 37s 613us/step - loss: 30.2938 - val_loss: 30.3020\n",
      "Epoch 16/50\n",
      "60000/60000 [==============================] - 37s 618us/step - loss: 29.8428 - val_loss: 31.7637\n",
      "Epoch 17/50\n",
      "60000/60000 [==============================] - 36s 602us/step - loss: 29.4905 - val_loss: 29.1976\n",
      "Epoch 18/50\n",
      "60000/60000 [==============================] - 36s 604us/step - loss: 28.9930 - val_loss: 29.4547\n",
      "Epoch 19/50\n",
      "60000/60000 [==============================] - 36s 603us/step - loss: 28.9182 - val_loss: 27.6223\n",
      "Epoch 20/50\n",
      "60000/60000 [==============================] - 35s 585us/step - loss: 28.6783 - val_loss: 27.8800\n",
      "Epoch 21/50\n",
      "60000/60000 [==============================] - 35s 583us/step - loss: 28.4395 - val_loss: 28.1386\n",
      "Epoch 22/50\n",
      "60000/60000 [==============================] - 35s 584us/step - loss: 28.1263 - val_loss: 27.7090\n",
      "Epoch 23/50\n",
      "60000/60000 [==============================] - 39s 647us/step - loss: 28.1119 - val_loss: 28.0880\n",
      "Epoch 24/50\n",
      "60000/60000 [==============================] - 37s 610us/step - loss: 27.8931 - val_loss: 27.4256\n",
      "Epoch 25/50\n",
      "60000/60000 [==============================] - 36s 605us/step - loss: 27.7058 - val_loss: 27.2903\n",
      "Epoch 26/50\n",
      "60000/60000 [==============================] - 36s 608us/step - loss: 27.5899 - val_loss: 27.3270\n",
      "Epoch 27/50\n",
      "60000/60000 [==============================] - 37s 614us/step - loss: 27.4574 - val_loss: 26.8546\n",
      "Epoch 28/50\n",
      "60000/60000 [==============================] - 37s 611us/step - loss: 27.3738 - val_loss: 27.8581\n",
      "Epoch 29/50\n",
      "60000/60000 [==============================] - 39s 658us/step - loss: 27.2145 - val_loss: 27.2470\n",
      "Epoch 30/50\n",
      "60000/60000 [==============================] - 38s 627us/step - loss: 27.0568 - val_loss: 27.2719\n",
      "Epoch 31/50\n",
      "60000/60000 [==============================] - 38s 631us/step - loss: 27.1040 - val_loss: 26.7811\n",
      "Epoch 32/50\n",
      "60000/60000 [==============================] - 39s 655us/step - loss: 27.0312 - val_loss: 26.6373\n",
      "Epoch 33/50\n",
      "60000/60000 [==============================] - 38s 626us/step - loss: 26.7001 - val_loss: 27.9104\n",
      "Epoch 34/50\n",
      "60000/60000 [==============================] - 46s 764us/step - loss: 26.8409 - val_loss: 26.7727\n",
      "Epoch 35/50\n",
      "60000/60000 [==============================] - 43s 716us/step - loss: 26.6248 - val_loss: 26.7144\n",
      "Epoch 36/50\n",
      "60000/60000 [==============================] - 44s 725us/step - loss: 26.4988 - val_loss: 27.2225\n",
      "Epoch 37/50\n",
      "60000/60000 [==============================] - 43s 718us/step - loss: 26.5357 - val_loss: 26.1390\n",
      "Epoch 38/50\n",
      "60000/60000 [==============================] - 49s 818us/step - loss: 26.4284 - val_loss: 27.9352\n",
      "Epoch 39/50\n",
      "60000/60000 [==============================] - 52s 863us/step - loss: 26.4037 - val_loss: 26.5914\n",
      "Epoch 40/50\n",
      "60000/60000 [==============================] - 47s 784us/step - loss: 26.3525 - val_loss: 26.3156\n",
      "Epoch 41/50\n",
      "60000/60000 [==============================] - 44s 725us/step - loss: 26.2268 - val_loss: 26.9449\n",
      "Epoch 42/50\n",
      "60000/60000 [==============================] - 45s 754us/step - loss: 26.1492 - val_loss: 27.3401\n",
      "Epoch 43/50\n",
      "60000/60000 [==============================] - 45s 756us/step - loss: 26.1402 - val_loss: 25.7585\n",
      "Epoch 44/50\n",
      "60000/60000 [==============================] - 48s 792us/step - loss: 26.0280 - val_loss: 26.8924\n",
      "Epoch 45/50\n",
      "60000/60000 [==============================] - 42s 707us/step - loss: 25.9950 - val_loss: 27.0265\n",
      "Epoch 46/50\n",
      "60000/60000 [==============================] - 44s 737us/step - loss: 26.0164 - val_loss: 28.1904\n",
      "Epoch 47/50\n",
      "60000/60000 [==============================] - 46s 775us/step - loss: 26.0617 - val_loss: 25.4795\n",
      "Epoch 48/50\n",
      "60000/60000 [==============================] - 46s 765us/step - loss: 25.8969 - val_loss: 25.6568\n",
      "Epoch 49/50\n",
      "60000/60000 [==============================] - 51s 845us/step - loss: 25.9185 - val_loss: 25.9482\n",
      "Epoch 50/50\n",
      "60000/60000 [==============================] - 44s 741us/step - loss: 25.8642 - val_loss: 25.2593\n",
      "\n",
      "Reported times per epoch: \n",
      "  [36.48143291473389, 37.03963112831116, 37.806020975112915, 36.90603709220886, 35.59243392944336, 34.86409306526184, 34.852816104888916, 35.271888971328735, 36.02656531333923, 35.8572518825531, 35.08837699890137, 34.92548322677612, 36.633689165115356, 35.07810997962952, 36.76370573043823, 37.057847023010254, 36.140164852142334, 36.23197793960571, 36.2087197303772, 35.07461094856262, 35.00223469734192, 35.063021183013916, 38.79238414764404, 36.60803294181824, 36.30048179626465, 36.487553119659424, 36.82581400871277, 36.63481903076172, 39.497108936309814, 37.64179491996765, 37.87193202972412, 39.31839299201965, 37.5878267288208, 45.853426933288574, 42.955827951431274, 43.50814890861511, 43.064558029174805, 49.056724071502686, 51.76949715614319, 47.05013704299927, 43.509868144989014, 45.24781394004822, 45.371195793151855, 47.53548622131348, 42.438841104507446, 44.200316190719604, 46.47171688079834, 45.88224911689758, 50.693645000457764, 44.43194127082825]\n",
      "\n",
      "\n",
      "Test Loss: 25.373899078369142\n",
      "Time for Testing Data:  2.4257638454437256\n"
     ]
    },
    {
     "data": {
      "image/png": "[encoded data removed]",
      "text/plain": [
       "<Figure size 432x288 with 1 Axes>"
      ]
     },
     "metadata": {
      "needs_background": "light"
     },
     "output_type": "display_data"
    },
    {
     "data": {
      "image/png": "[encoded data removed]",
      "text/plain": [
       "<Figure size 432x288 with 1 Axes>"
      ]
     },
     "metadata": {
      "needs_background": "light"
     },
     "output_type": "display_data"
    }
   ],
   "source": [
    "history = run_model(vae, reshaped_x_train_scaled, reshaped_x_test_scaled)"
   ]
  },
  {
   "cell_type": "code",
   "execution_count": 13,
   "metadata": {},
   "outputs": [],
   "source": [
    "# =============================================\n",
    "# Take a sample for visualization purposes\n",
    "# =============================================\n",
    "input_sample = reshaped_x_train_scaled[:1]\n",
    "reconstruction = vae.predict([input_sample])"
   ]
  },
  {
   "cell_type": "code",
   "execution_count": 16,
   "metadata": {},
   "outputs": [
    {
     "data": {
      "image/png": "[encoded data removed]",
      "text/plain": [
       "<Figure size 432x252 with 2 Axes>"
      ]
     },
     "metadata": {
      "needs_background": "light"
     },
     "output_type": "display_data"
    }
   ],
   "source": [
    "# =============================================\n",
    "# Visualize input-->reconstruction\n",
    "# =============================================\n",
    "fig, axes = plt.subplots(1, 2)\n",
    "fig.set_size_inches(6, 3.5)\n",
    "input_sample_reshaped = input_sample.reshape((28, 28))\n",
    "reconsstruction_reshaped = reconstruction.reshape((28, 28))\n",
    "axes[0].imshow(input_sample_reshaped, cmap='gray') \n",
    "axes[0].set_title('Original image')\n",
    "axes[1].imshow(reconsstruction_reshaped, cmap='gray')\n",
    "axes[1].set_title('Reconstruction')\n",
    "plt.show()"
   ]
  },
  {
   "cell_type": "code",
   "execution_count": 19,
   "metadata": {},
   "outputs": [
    {
     "name": "stdout",
     "output_type": "stream",
     "text": [
      "3\n"
     ]
    }
   ],
   "source": [
    "output_encoder = encoder.predict(reshaped_x_train_scaled)\n",
    "print(len(output_encoder))"
   ]
  },
  {
   "cell_type": "code",
   "execution_count": 20,
   "metadata": {
    "collapsed": true
   },
   "outputs": [
    {
     "name": "stdout",
     "output_type": "stream",
     "text": [
      "[[1.69664752e-02 6.07716804e-03 4.36121225e-03 5.39501710e-03\n",
      "  6.41374709e-03 5.06000826e-03 8.44119210e-03 4.78102034e-03\n",
      "  1.37284840e-03 7.30511732e-04 1.58297119e-03 3.77848325e-03\n",
      "  8.31063651e-03 1.19351875e-02 2.46437974e-02 2.16924455e-02\n",
      "  1.04202507e-02 5.70457336e-03 4.24071727e-03 4.77045681e-03\n",
      "  5.43096755e-03 4.29150788e-03 6.28417078e-03 6.30007917e-03\n",
      "  5.36565762e-03 4.50070156e-03 4.91621532e-03 1.01580061e-02]\n",
      " [8.71917885e-03 2.75483215e-03 1.26668811e-03 1.86925381e-03\n",
      "  1.65582891e-03 1.27476023e-03 1.53122109e-03 7.78032292e-04\n",
      "  1.64872588e-04 1.28888831e-04 2.74249847e-04 1.82695757e-03\n",
      "  5.58855478e-03 1.21260909e-02 1.70423761e-02 2.01003831e-02\n",
      "  1.06402198e-02 7.13625504e-03 4.01601102e-03 5.03481133e-03\n",
      "  2.87094945e-03 2.13761418e-03 2.02194555e-03 2.63137091e-03\n",
      "  2.05886108e-03 1.79593626e-03 1.50548760e-03 3.15221236e-03]\n",
      " [6.05605496e-03 2.59152032e-03 1.17161765e-03 1.39965618e-03\n",
      "  1.28444575e-03 1.10414042e-03 7.18981551e-04 3.53996875e-04\n",
      "  1.00113539e-04 1.17992757e-04 3.52555217e-04 2.36652140e-03\n",
      "  1.14737498e-02 3.01235300e-02 3.33900265e-02 3.61506008e-02\n",
      "  2.73667593e-02 2.09195558e-02 1.32768974e-02 1.02396812e-02\n",
      "  5.07026631e-03 2.94264616e-03 1.88733044e-03 3.02445120e-03\n",
      "  2.19976041e-03 1.88045693e-03 1.49348693e-03 3.41933384e-03]\n",
      " [7.69393239e-03 3.01458663e-03 1.61120167e-03 1.24483858e-03\n",
      "  9.67040833e-04 7.09302898e-04 4.76867601e-04 3.25320434e-04\n",
      "  2.01445451e-04 3.42844869e-04 1.58765656e-03 6.58763386e-03\n",
      "  3.15992683e-02 9.52901691e-02 1.02688313e-01 9.40825343e-02\n",
      "  1.06543958e-01 9.39647034e-02 6.94256946e-02 3.36753689e-02\n",
      "  1.76350921e-02 9.85747669e-03 4.94329259e-03 6.81036944e-03\n",
      "  8.30655452e-03 6.46849535e-03 4.84922295e-03 6.60653040e-03]\n",
      " [6.25964347e-03 3.36023956e-03 1.85295532e-03 1.57130824e-03\n",
      "  6.02954649e-04 3.52330739e-04 2.35757208e-04 4.20771103e-04\n",
      "  3.76409967e-04 1.14889722e-03 8.02013092e-03 5.09886295e-02\n",
      "  1.04025982e-01 1.48690045e-01 2.01432958e-01 2.15562150e-01\n",
      "  2.48661429e-01 2.71480173e-01 2.62532949e-01 1.63190335e-01\n",
      "  8.66518766e-02 5.90010248e-02 3.71673703e-02 4.18604314e-02\n",
      "  4.51493748e-02 5.87200597e-02 3.82182971e-02 1.62285529e-02]\n",
      " [6.65730098e-03 3.39966430e-03 1.58471602e-03 1.25567277e-03\n",
      "  2.94780853e-04 1.37878349e-04 9.73501737e-05 4.22679703e-04\n",
      "  9.71510366e-04 5.20559354e-03 2.79675480e-02 8.20471868e-02\n",
      "  1.01079606e-01 1.87892541e-01 2.73110509e-01 3.45704436e-01\n",
      "  3.94655347e-01 4.88768458e-01 4.97025400e-01 4.46733505e-01\n",
      "  3.49033087e-01 2.58432418e-01 1.93469614e-01 1.79846421e-01\n",
      "  2.01181427e-01 2.27730364e-01 1.40436351e-01 3.89184579e-02]\n",
      " [8.05892982e-03 5.06859738e-03 2.20713043e-03 1.59516407e-03\n",
      "  3.44817206e-04 2.06064957e-04 1.63475939e-04 6.27786387e-04\n",
      "  2.45804922e-03 1.17340460e-02 3.64357643e-02 6.30669892e-02\n",
      "  5.67192920e-02 8.67891014e-02 2.69971669e-01 4.86707479e-01\n",
      "  5.83175659e-01 6.21288419e-01 6.25187457e-01 6.42017841e-01\n",
      "  5.62373102e-01 5.10475636e-01 4.84379262e-01 4.99097675e-01\n",
      "  4.63096678e-01 4.97706503e-01 2.66880602e-01 5.68344109e-02]\n",
      " [8.85992870e-03 4.04492021e-03 2.07505142e-03 9.53722571e-04\n",
      "  2.67482304e-04 1.46621169e-04 2.00478768e-04 6.17278332e-04\n",
      "  2.78216554e-03 8.25882517e-03 1.84861682e-02 3.41376439e-02\n",
      "  3.99047025e-02 1.04719579e-01 4.08792824e-01 6.62940085e-01\n",
      "  7.10205853e-01 7.28987336e-01 7.42304146e-01 6.81344509e-01\n",
      "  6.89447522e-01 6.79750264e-01 6.61331952e-01 6.95020616e-01\n",
      "  6.78829014e-01 6.27352834e-01 2.89328873e-01 4.78304550e-02]\n",
      " [7.62003101e-03 4.39993525e-03 2.28662067e-03 1.00708974e-03\n",
      "  1.69844221e-04 1.02869963e-04 1.82861811e-04 7.42026139e-04\n",
      "  1.51124073e-03 3.96244694e-03 1.08050462e-02 4.80796508e-02\n",
      "  6.62961826e-02 1.92075416e-01 5.85674942e-01 7.45826662e-01\n",
      "  7.56011248e-01 7.38118291e-01 7.67171085e-01 7.63924539e-01\n",
      "  7.60465622e-01 7.73851097e-01 7.60243058e-01 7.67724335e-01\n",
      "  7.39265084e-01 6.91266060e-01 3.02731991e-01 3.18006054e-02]\n",
      " [6.67577051e-03 3.31942737e-03 1.50756480e-03 5.04424155e-04\n",
      "  9.46322107e-05 7.91268685e-05 1.40115560e-04 4.67083330e-04\n",
      "  5.56197250e-04 1.80566055e-03 9.19592660e-03 4.26468812e-02\n",
      "  1.17552273e-01 3.83233219e-01 7.11243451e-01 7.74324059e-01\n",
      "  7.78122783e-01 7.77050972e-01 7.79278576e-01 7.91642487e-01\n",
      "  7.85718501e-01 8.16827238e-01 8.02296400e-01 8.13018739e-01\n",
      "  7.78387487e-01 6.91750944e-01 3.11779618e-01 3.05955410e-02]\n",
      " [8.32069106e-03 4.42000199e-03 1.73822115e-03 6.67808170e-04\n",
      "  1.59058647e-04 1.61684031e-04 2.80804961e-04 6.08980423e-04\n",
      "  6.09983632e-04 2.37831939e-03 1.32802399e-02 7.55349174e-02\n",
      "  2.48540416e-01 5.71074903e-01 7.49109447e-01 8.01837087e-01\n",
      "  7.94567943e-01 7.93319523e-01 8.03974271e-01 8.27566266e-01\n",
      "  8.07462335e-01 8.12095881e-01 8.18527997e-01 8.18071723e-01\n",
      "  7.95279920e-01 7.20104039e-01 3.04440856e-01 3.25686149e-02]\n",
      " [1.05734216e-02 4.97220969e-03 2.13229517e-03 6.58759556e-04\n",
      "  2.02707088e-04 1.59284027e-04 2.94066471e-04 4.21891309e-04\n",
      "  6.65846979e-04 1.63405738e-03 1.02375122e-02 6.64135069e-02\n",
      "  3.75738204e-01 6.64431632e-01 7.90583968e-01 7.95062959e-01\n",
      "  8.14363360e-01 8.09327483e-01 7.83470035e-01 8.09789121e-01\n",
      "  8.28709185e-01 8.18901300e-01 8.11737001e-01 7.95845807e-01\n",
      "  8.00834000e-01 7.32644439e-01 2.79202938e-01 2.95172408e-02]\n",
      " [1.38730127e-02 1.01841781e-02 5.20298397e-03 2.01737625e-03\n",
      "  3.26142123e-04 2.23442767e-04 4.13411064e-04 6.32856041e-04\n",
      "  6.86062558e-04 2.19852896e-03 1.97887700e-02 1.61031842e-01\n",
      "  5.49472570e-01 7.16784418e-01 7.85167754e-01 8.05568993e-01\n",
      "  8.14435780e-01 8.00179243e-01 8.04931819e-01 8.19694698e-01\n",
      "  8.35886896e-01 8.14981222e-01 8.17236900e-01 7.98191369e-01\n",
      "  7.94785321e-01 7.46453166e-01 2.67192096e-01 2.37278640e-02]\n",
      " [1.53829111e-02 1.27691617e-02 6.96461322e-03 2.81986129e-03\n",
      "  4.30526095e-04 2.80853972e-04 6.47986250e-04 7.79513561e-04\n",
      "  8.98875820e-04 3.37418541e-03 4.99571562e-02 3.26693386e-01\n",
      "  6.90506995e-01 7.54497170e-01 7.93390036e-01 7.89530516e-01\n",
      "  8.10666680e-01 8.12565267e-01 8.09659600e-01 8.26966226e-01\n",
      "  8.38587105e-01 8.23212683e-01 8.19790840e-01 8.14893663e-01\n",
      "  8.12293828e-01 7.73809075e-01 3.14317256e-01 3.05199325e-02]\n",
      " [1.82514377e-02 1.80114601e-02 1.30685391e-02 1.06349010e-02\n",
      "  2.35135411e-03 1.45981868e-03 3.12751019e-03 7.48083973e-03\n",
      "  7.51166558e-03 2.72913668e-02 2.13696793e-01 5.98661840e-01\n",
      "  7.60999918e-01 7.71186650e-01 7.80752957e-01 7.90981114e-01\n",
      "  7.98483551e-01 8.19518924e-01 8.21491241e-01 8.40620577e-01\n",
      "  8.41197491e-01 8.26110601e-01 8.02772641e-01 8.05825353e-01\n",
      "  7.94580996e-01 7.74074197e-01 3.87721539e-01 4.60235290e-02]\n",
      " [1.53649310e-02 2.22419407e-02 2.10690312e-02 3.51464897e-02\n",
      "  1.67153347e-02 1.03789261e-02 2.28727181e-02 6.24907911e-02\n",
      "  8.40972289e-02 1.79662570e-01 4.98705536e-01 7.31433392e-01\n",
      "  7.78084338e-01 7.68887341e-01 7.89440393e-01 7.86163330e-01\n",
      "  8.18630576e-01 8.24104309e-01 8.23732376e-01 8.41479301e-01\n",
      "  8.51586580e-01 8.36723149e-01 8.16269338e-01 8.17515314e-01\n",
      "  8.12280536e-01 8.03887904e-01 5.07028878e-01 7.35019296e-02]\n",
      " [2.11840943e-02 4.53953557e-02 6.71714693e-02 9.99652445e-02\n",
      "  8.53390470e-02 8.16284642e-02 1.85936153e-01 3.65661174e-01\n",
      "  3.74226123e-01 5.31774461e-01 7.12247968e-01 7.56892920e-01\n",
      "  7.76157737e-01 7.71556735e-01 7.87757397e-01 7.96671391e-01\n",
      "  8.19590986e-01 8.28925490e-01 8.38615477e-01 8.40150177e-01\n",
      "  8.39293957e-01 8.29839110e-01 8.29985082e-01 8.11497211e-01\n",
      "  8.11631203e-01 7.76961803e-01 6.03877723e-01 8.48261639e-02]\n",
      " [4.83779497e-02 1.24318756e-01 2.02579260e-01 2.89829493e-01\n",
      "  2.97146350e-01 3.27599525e-01 4.79096621e-01 5.91874480e-01\n",
      "  6.25734389e-01 6.89267099e-01 7.72950470e-01 7.74284542e-01\n",
      "  7.89177060e-01 7.81336963e-01 8.00557852e-01 8.03934872e-01\n",
      "  8.28275740e-01 8.27082396e-01 8.44595671e-01 8.42935741e-01\n",
      "  8.47681105e-01 8.23089421e-01 8.37020457e-01 8.23063195e-01\n",
      "  8.08184683e-01 8.03973794e-01 6.45838439e-01 1.01338677e-01]\n",
      " [1.01609528e-01 3.47287506e-01 4.57448632e-01 5.34379125e-01\n",
      "  5.72102010e-01 6.14983797e-01 6.78228259e-01 7.55959988e-01\n",
      "  7.45748460e-01 7.56307423e-01 7.52179325e-01 7.71252811e-01\n",
      "  7.75776923e-01 7.67211080e-01 7.92078495e-01 8.14401388e-01\n",
      "  8.20894301e-01 8.26470017e-01 8.24331462e-01 8.46286356e-01\n",
      "  8.60031128e-01 8.45873237e-01 8.39097261e-01 8.32181633e-01\n",
      "  8.18959117e-01 8.00003231e-01 6.60467327e-01 1.14113733e-01]\n",
      " [1.65083230e-01 5.38473010e-01 5.81803858e-01 6.11530781e-01\n",
      "  6.54563248e-01 6.84481084e-01 7.35607505e-01 7.42455006e-01\n",
      "  7.72425711e-01 7.81268835e-01 7.93070972e-01 7.83461869e-01\n",
      "  7.93397307e-01 7.90539980e-01 8.13654304e-01 7.96497345e-01\n",
      "  8.22061777e-01 8.37469339e-01 8.52798104e-01 8.51429522e-01\n",
      "  8.63372564e-01 8.40878665e-01 8.31111193e-01 8.40585113e-01\n",
      "  8.12235236e-01 7.91967213e-01 7.12900639e-01 1.29902467e-01]\n",
      " [2.29262680e-01 6.75278306e-01 6.26266599e-01 6.69985175e-01\n",
      "  7.06830978e-01 7.35519290e-01 7.60045588e-01 7.73693800e-01\n",
      "  7.92186618e-01 7.80952096e-01 7.93701291e-01 7.99887478e-01\n",
      "  8.10235560e-01 8.15982461e-01 8.22718143e-01 8.14839840e-01\n",
      "  8.35884154e-01 8.47072661e-01 8.55119109e-01 8.37299824e-01\n",
      "  8.49819899e-01 8.39965701e-01 8.27811658e-01 8.26763988e-01\n",
      "  8.15136731e-01 7.45489717e-01 7.24606812e-01 1.63141713e-01]\n",
      " [2.53917664e-01 6.34342134e-01 6.33910537e-01 6.77046120e-01\n",
      "  7.52951443e-01 7.84621775e-01 7.98444748e-01 8.20857882e-01\n",
      "  8.27302158e-01 8.04441512e-01 8.08913350e-01 8.29084873e-01\n",
      "  8.24101448e-01 8.26382279e-01 8.30440938e-01 8.29942763e-01\n",
      "  8.43926728e-01 8.27661216e-01 8.33251595e-01 8.30729842e-01\n",
      "  8.45399797e-01 8.31126511e-01 8.26072276e-01 8.28311920e-01\n",
      "  8.09982836e-01 7.38226235e-01 7.39178419e-01 1.74395725e-01]\n",
      " [2.19684109e-01 6.04153574e-01 6.74945056e-01 7.18793511e-01\n",
      "  7.92261839e-01 8.28117371e-01 8.31457913e-01 8.56339574e-01\n",
      "  8.45316589e-01 8.29582155e-01 8.20393920e-01 8.41487527e-01\n",
      "  8.32394123e-01 8.36788237e-01 8.36067140e-01 8.40076625e-01\n",
      "  8.47552121e-01 8.21139514e-01 7.98905432e-01 8.18859756e-01\n",
      "  8.59396756e-01 8.55874121e-01 8.40245426e-01 8.18321645e-01\n",
      "  8.16614091e-01 7.65044391e-01 6.66432321e-01 1.65887535e-01]\n",
      " [8.84092674e-02 2.57448643e-01 3.31386387e-01 5.60984731e-01\n",
      "  7.32008457e-01 8.19853306e-01 8.31403673e-01 8.64466548e-01\n",
      "  8.72295558e-01 8.75645339e-01 8.38051498e-01 8.59311044e-01\n",
      "  8.53065073e-01 8.85219038e-01 8.36671054e-01 8.15594018e-01\n",
      "  8.00861597e-01 8.14444005e-01 7.74007440e-01 8.14294755e-01\n",
      "  8.55017364e-01 8.79016638e-01 8.55100811e-01 8.00529361e-01\n",
      "  7.54012465e-01 7.37300456e-01 6.35527134e-01 1.37472376e-01]\n",
      " [1.59794297e-02 3.30810584e-02 3.69502269e-02 7.72323832e-02\n",
      "  2.19163403e-01 3.79200041e-01 5.32838106e-01 7.16379762e-01\n",
      "  7.66573668e-01 7.33383417e-01 6.91686630e-01 6.80349648e-01\n",
      "  7.00846791e-01 6.17948532e-01 5.01533329e-01 4.02848750e-01\n",
      "  4.13978547e-01 4.19847697e-01 4.63180184e-01 5.69516599e-01\n",
      "  6.67003155e-01 6.70801342e-01 5.17666280e-01 4.19084609e-01\n",
      "  4.06813174e-01 3.76980036e-01 3.29233766e-01 9.62040126e-02]\n",
      " [3.69799533e-03 2.52230116e-03 2.17276812e-03 2.58197705e-03\n",
      "  5.59947221e-03 1.70464758e-02 6.65287450e-02 1.85638919e-01\n",
      "  2.24183440e-01 1.61216170e-01 1.86794817e-01 1.40449464e-01\n",
      "  9.45020616e-02 4.15527374e-02 2.89534703e-02 1.96548253e-02\n",
      "  2.07997840e-02 2.60980129e-02 4.33656313e-02 7.81989321e-02\n",
      "  1.04107141e-01 6.99636191e-02 3.90456803e-02 2.91075222e-02\n",
      "  3.06630656e-02 2.64369305e-02 3.54574695e-02 2.26712823e-02]\n",
      " [1.76340668e-03 8.21224239e-04 4.04952560e-04 4.26407409e-04\n",
      "  2.65410898e-04 7.72994419e-04 2.83133914e-03 9.91620217e-03\n",
      "  7.19539216e-03 6.16013724e-03 8.68006330e-03 6.88754302e-03\n",
      "  2.18612142e-03 1.06050144e-03 8.59827909e-04 1.13531703e-03\n",
      "  8.03743897e-04 1.67339609e-03 2.54839985e-03 5.75148175e-03\n",
      "  3.16934288e-03 2.55229464e-03 1.34037668e-03 2.27821595e-03\n",
      "  1.79256033e-03 2.48159561e-03 3.04647326e-03 5.49083669e-03]\n",
      " [7.77080143e-03 2.39281100e-03 1.20743643e-03 1.30544556e-03\n",
      "  7.59347400e-04 1.30502670e-03 1.83605927e-03 4.22378490e-03\n",
      "  3.19060963e-03 4.14539315e-03 4.49426053e-03 5.13080973e-03\n",
      "  1.76464615e-03 1.53762498e-03 1.21050363e-03 1.85714301e-03\n",
      "  1.06290006e-03 2.27008201e-03 2.07692268e-03 3.92684853e-03\n",
      "  2.60500354e-03 3.41809099e-03 2.42780778e-03 3.49982642e-03\n",
      "  2.52185599e-03 3.96260712e-03 4.38194955e-03 1.03462711e-02]]\n"
     ]
    }
   ],
   "source": [
    "image = decoder.predict(np.array([output_encoder[2][0]]))\n",
    "image = image.reshape((28,28))\n",
    "print(image)"
   ]
  },
  {
   "cell_type": "code",
   "execution_count": 21,
   "metadata": {},
   "outputs": [
    {
     "name": "stdout",
     "output_type": "stream",
     "text": [
      "5.4659266 -4.7997932\n"
     ]
    }
   ],
   "source": [
    "max = output_encoder[2].max()\n",
    "min = output_encoder[2].min()\n",
    "print(max, min)"
   ]
  },
  {
   "cell_type": "code",
   "execution_count": 60,
   "metadata": {},
   "outputs": [
    {
     "name": "stdout",
     "output_type": "stream",
     "text": [
      "(28, 28)\n"
     ]
    }
   ],
   "source": [
    "#latent = np.random.rand(32)\n",
    "latent = np.random.normal(0, 1, 32)\n",
    "#latent = np.random.rand(32)*(max - min) + min\n",
    "decoded_img = decoder.predict(np.array([latent]))\n",
    "decoded_img = decoded_img[0].reshape(28, 28)\n",
    "print(decoded_img.shape)"
   ]
  },
  {
   "cell_type": "code",
   "execution_count": null,
   "metadata": {},
   "outputs": [],
   "source": []
  },
  {
   "cell_type": "code",
   "execution_count": 61,
   "metadata": {},
   "outputs": [
    {
     "data": {
      "text/plain": [
       "<matplotlib.image.AxesImage at 0x65ecfbfd0>"
      ]
     },
     "execution_count": 61,
     "metadata": {},
     "output_type": "execute_result"
    },
    {
     "data": {
      "image/png": "[encoded data removed]",
      "text/plain": [
       "<Figure size 432x288 with 1 Axes>"
      ]
     },
     "metadata": {
      "needs_background": "light"
     },
     "output_type": "display_data"
    }
   ],
   "source": [
    "plt.figure()\n",
    "plt.gray()\n",
    "plt.imshow(image)"
   ]
  },
  {
   "cell_type": "code",
   "execution_count": 67,
   "metadata": {},
   "outputs": [],
   "source": [
    "rand_latents = []\n",
    "for i in range(10):\n",
    "    random_latent = np.random.normal(0, 1, 32)\n",
    "    decoded_img = decoder.predict(np.array([random_latent]))\n",
    "    decoded_img_reshape = np.reshape(decoded_img,(28,28))\n",
    "    rand_latents.append(decoded_img_reshape)"
   ]
  },
  {
   "cell_type": "code",
   "execution_count": 72,
   "metadata": {},
   "outputs": [
    {
     "data": {
      "image/png": "[encoded data removed]",
      "text/plain": [
       "<Figure size 432x288 with 10 Axes>"
      ]
     },
     "metadata": {},
     "output_type": "display_data"
    }
   ],
   "source": [
    "for i in range(10):\n",
    "    plt.subplot(5, 5, i+1)\n",
    "    plt.xticks([])\n",
    "    plt.yticks([])\n",
    "    plt.gray()\n",
    "    plt.grid(False)\n",
    "    plt.imshow(rand_latents[i])\n",
    "plt.savefig('latent_vec_img.png')\n",
    "plt.show()"
   ]
  },
  {
   "cell_type": "code",
   "execution_count": 71,
   "metadata": {},
   "outputs": [
    {
     "data": {
      "text/plain": [
       "array([-1.32037103, -1.3550233 , -0.50794681,  1.22933885,  0.67858292,\n",
       "       -0.53179348,  0.89579833, -0.19877655,  0.76357474,  0.08349087,\n",
       "        0.34069923,  1.08775654, -0.01730444,  0.57644287,  0.15164235,\n",
       "        0.03691859, -2.19640885, -0.73877545, -0.16384047,  0.63882505,\n",
       "        0.80116266, -0.59567757, -0.38875735,  0.0342079 ,  1.43902818,\n",
       "        1.02457623, -0.86560232, -0.05023889, -0.20625724,  0.01331181,\n",
       "       -1.41289474, -0.94238521])"
      ]
     },
     "execution_count": 71,
     "metadata": {},
     "output_type": "execute_result"
    }
   ],
   "source": [
    "np.random.normal(0, 1, 32)"
   ]
  },
  {
   "cell_type": "code",
   "execution_count": null,
   "metadata": {},
   "outputs": [],
   "source": []
  }
 ],
 "metadata": {
  "kernelspec": {
   "display_name": "Python 3",
   "language": "python",
   "name": "python3"
  },
  "language_info": {
   "codemirror_mode": {
    "name": "ipython",
    "version": 3
   },
   "file_extension": ".py",
   "mimetype": "text/x-python",
   "name": "python",
   "nbconvert_exporter": "python",
   "pygments_lexer": "ipython3",
   "version": "3.7.6"
  }
 },
 "nbformat": 4,
 "nbformat_minor": 4
}
